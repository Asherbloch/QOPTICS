{
 "cells": [
  {
   "cell_type": "markdown",
   "id": "5272ca4f-d607-41b2-8020-4e192093c0a1",
   "metadata": {},
   "source": [
    "# Wave propagation"
   ]
  },
  {
   "cell_type": "code",
   "execution_count": null,
   "id": "82d25b18-a3c5-43ec-92da-803e0ab47242",
   "metadata": {},
   "outputs": [],
   "source": []
  }
 ],
 "metadata": {
  "kernelspec": {
   "display_name": "RAPIDS",
   "language": "python",
   "name": "rapids"
  },
  "language_info": {
   "codemirror_mode": {
    "name": "ipython",
    "version": 3
   },
   "file_extension": ".py",
   "mimetype": "text/x-python",
   "name": "python",
   "nbconvert_exporter": "python",
   "pygments_lexer": "ipython3",
   "version": "3.9.12"
  }
 },
 "nbformat": 4,
 "nbformat_minor": 5
}
