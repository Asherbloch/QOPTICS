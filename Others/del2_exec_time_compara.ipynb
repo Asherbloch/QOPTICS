{
 "cells": [
  {
   "cell_type": "code",
   "execution_count": 2,
   "metadata": {},
   "outputs": [],
   "source": [
    "import cupyx.scipy as cuxsp\n",
    "import numpy as np\n",
    "import cupy as cp\n",
    "import scipy as sp\n",
    "from numba import njit"
   ]
  },
  {
   "cell_type": "code",
   "execution_count": 199,
   "metadata": {},
   "outputs": [
    {
     "name": "stdout",
     "output_type": "stream",
     "text": [
      "5058679296\n",
      "5058790912\n",
      "0\n"
     ]
    }
   ],
   "source": [
    "mempool = cp.get_default_memory_pool()\n",
    "pinned_mempool = cp.get_default_pinned_memory_pool()\n",
    "print(mempool.used_bytes())             \n",
    "print(mempool.total_bytes())           \n",
    "print(pinned_mempool.n_free_blocks())  \n"
   ]
  },
  {
   "cell_type": "code",
   "execution_count": 198,
   "metadata": {},
   "outputs": [],
   "source": [
    "mempool.free_all_blocks()\n",
    "pinned_mempool.free_all_blocks()"
   ]
  },
  {
   "cell_type": "markdown",
   "metadata": {},
   "source": [
    "## Preparation:\n",
    "<br>\n",
    "<br>\n",
    "對資料長度 120*120*120 三維陣列計算discrete laplacian。<br>\n",
    "ipython %%timeit做測速。<br>\n",
    "<br>\n",
    "<br>"
   ]
  },
  {
   "cell_type": "code",
   "execution_count": 3,
   "metadata": {},
   "outputs": [],
   "source": [
    "Nx = 120\n",
    "Ny = 120\n",
    "Nz = 120\n",
    "Lx = 1\n",
    "Ly = 1\n",
    "Lz = 1\n",
    "x = np.linspace(-Lx,Lx,Nx)\n",
    "y = np.linspace(-Ly,Ly,Ny)\n",
    "z = np.linspace(-Lz,Lz,Nz)\n",
    "dx = np.diff(x)[0]\n",
    "dy = np.diff(y)[0]\n",
    "dz = np.diff(z)[0]\n",
    "[X,Y,Z] = np.meshgrid(x,y,z)\n",
    "\n",
    "w = X**2 + Y**2 + Z**2\n"
   ]
  },
  {
   "cell_type": "markdown",
   "metadata": {},
   "source": [
    "## Result\n",
    "\n",
    "<table border=\"1\">\n",
    "    <caption> Execution time </caption>\n",
    "    <thead>\n",
    "        <tr>\n",
    "            <th rowspan=2>Machine</th>\n",
    "            <th colspan=3\n",
    "                style=\"text-align:center\">CPU</th>\n",
    "            <th rowspan=3\n",
    "                colspan=3\n",
    "                style=\"text-align:center\">GPU</th>\n",
    "        </tr>\n",
    "    </thead>\n",
    "    <tbody>\n",
    "        <tr>\n",
    "            <td rowspan=4>Local</td>\n",
    "            <td> brutal method </td>\n",
    "            <td><strong>brutal method<br>(njit compiled) </strong></td>\n",
    "            <td> fortran vectorization </td>\n",
    "        </tr>\n",
    "        <tr>\n",
    "            <td> 4.57 s ± 60.7 ms </td>\n",
    "            <td><strong>6.21 ms ± 136 µs  </td></strong>\n",
    "            <td> 9 ms ± 282 µs  </td>\n",
    "        </tr>\n",
    "        <tr>\n",
    "            <td>Vetorization<br>(njit compiled)</td>\n",
    "            <td>tensor product</td>\n",
    "            <td>sparse matrix</td>\n",
    "            <td><strong>vetorization</td></strong>\n",
    "            <td>tensor product</td>\n",
    "            <td>sparse matrix</td>\n",
    "        </tr>\n",
    "        <tr>\n",
    "            <td> 24.9 ms ± 1.03 ms </td>\n",
    "            <td> 337 ms ± 3.86 ms </td>\n",
    "            <td> 153 ms ± 2.13 ms </td>\n",
    "            <td><strong> 1.4 ms ± 2.74 µs </td></strong>\n",
    "            <td> 4.58 ms ± 8.93 µs </td>\n",
    "            <td> 588 ms ± 46.9 ms </td>\n",
    "        </tr>\n",
    "        <tr>\n",
    "            <td rowspan=4>Master</td>\n",
    "            <td> brutal method </td>\n",
    "            <td><strong>brutal method<br>(njit compiled) </td></strong>\n",
    "            <td> fortran vectorization </td>\n",
    "        </tr>\n",
    "        <tr>\n",
    "            <td> 3.73 s ± 28.3 ms </td>\n",
    "            <td> <strong>5.37 ms ± 94.9 µs  </td></strong>\n",
    "            <td> 6.33 ms ± 99.3 µs </td>\n",
    "        </tr>\n",
    "        <tr>\n",
    "            <td>vetorization<br>(njit compiled)</td>\n",
    "            <td>tensor product</td>\n",
    "            <td>sparse matrix</td>\n",
    "            <td><strong>vetorization</td></strong>\n",
    "            <td>tensor product</td>\n",
    "            <td>sparse matrix</td>\n",
    "        </tr>\n",
    "        <tr>\n",
    "            <td> 20.9 ms ± 644 µs  </td>\n",
    "            <td> 260 ms ± 2.76 ms </td>\n",
    "            <td> 82 ms ± 866 µs </td>\n",
    "            <td><strong> 965 µs ± 179 ns </td></strong>\n",
    "            <td> 3.23 ms ± 8.35 µs  </td>\n",
    "            <td> 177 ms ± 1.06 ms </td>\n",
    "        </tr>\n",
    "    </tbody>\n",
    "        \n",
    "python vectorization: 31 ms ± 1.93 ms<br>\n",
    "fortran brutal method : 18.1 ms ± 766 µs\n"
   ]
  },
  {
   "cell_type": "markdown",
   "metadata": {},
   "source": [
    "brutal method"
   ]
  },
  {
   "cell_type": "code",
   "execution_count": 6,
   "metadata": {},
   "outputs": [],
   "source": [
    "# @njit(fastmath=True, nogil=True)\n",
    "def brutal(w, dx,dy,dz):\n",
    "    lap = np.zeros_like(w)\n",
    "    for i in range(1,w.shape[0]-1):\n",
    "        for j in range(1, w.shape[1]-1):\n",
    "            for k in range(1, w.shape[2]-1):\n",
    "                lap[i,j,k] = (1/dx)**2 * ( w[i,j+1,k] - 2*w[i,j,k] + w[i,j-1,k]) + \\\n",
    "                            (1/dy)**2 * ( w[i+1,j,k] - 2*w[i,j,k] + w[i-1,j,k]) + \\\n",
    "                            (1/dz)**2 * ( w[i,j,k+1] - 2*w[i,j,k] + w[i,j,k-1])\n",
    "                    \n",
    "    return lap"
   ]
  },
  {
   "cell_type": "code",
   "execution_count": 7,
   "metadata": {},
   "outputs": [
    {
     "name": "stdout",
     "output_type": "stream",
     "text": [
      "3.73 s ± 28.3 ms per loop (mean ± std. dev. of 7 runs, 1 loop each)\n"
     ]
    }
   ],
   "source": [
    "%%timeit\n",
    "brutal(w,dx,dy,dz)"
   ]
  },
  {
   "cell_type": "markdown",
   "metadata": {},
   "source": [
    "compiled loop method"
   ]
  },
  {
   "cell_type": "code",
   "execution_count": 8,
   "metadata": {},
   "outputs": [],
   "source": [
    "@njit(fastmath=True, nogil=True)\n",
    "def loop(w, _dx, _dy, _dz):\n",
    "    \"\"\" Calculate the del2 of the array w=[].\n",
    "        Note that the boundary points aren't handled \"\"\"\n",
    "    lap = np.zeros_like(w)\n",
    "    for z in range(1,w.shape[2]-1):\n",
    "        lap[:, :, z] = (1/_dz)**2 * ( w[:, :, z+1] - 2*w[:, :, z] + w[:, :, z-1] )\n",
    "    for y in range(1,w.shape[0]-1):\n",
    "        lap[y, :,:] = lap[y, :, :] + (1/_dy)**2 * ( w[y+1, :, :] - 2*w[y, :, :] + w[y-1, :, :] )\n",
    "    for x in range(1,w.shape[1]-1):\n",
    "        lap[:, x,:] = lap[:, x, :] + (1/_dx)**2 * ( w[:, x+1, :] - 2*w[:, x, :] + w[:, x-1, :] )\n",
    "    return lap\n"
   ]
  },
  {
   "cell_type": "code",
   "execution_count": 9,
   "metadata": {},
   "outputs": [
    {
     "name": "stdout",
     "output_type": "stream",
     "text": [
      "20.9 ms ± 644 µs per loop (mean ± std. dev. of 7 runs, 1 loop each)\n"
     ]
    }
   ],
   "source": [
    "%%timeit\n",
    "loop(w,dx,dy,dz)"
   ]
  },
  {
   "cell_type": "markdown",
   "metadata": {},
   "source": [
    ">compiled vectorized method"
   ]
  },
  {
   "cell_type": "code",
   "execution_count": 10,
   "metadata": {},
   "outputs": [],
   "source": [
    "@njit(fastmath=True, nogil=True)\n",
    "def vector_CPU(w, dx, dy, dz):\n",
    "    u=np.zeros_like(w)\n",
    "    u[1:w.shape[0]-1,1:w.shape[1]-1,1:w.shape[2]-1] = (\n",
    "        (1/dy**2)*(\n",
    "                w[2:w.shape[0],   1:w.shape[1]-1, 1:w.shape[2]-1] \n",
    "            - 2*w[1:w.shape[0]-1, 1:w.shape[1]-1, 1:w.shape[2]-1] \n",
    "            + w[0:w.shape[0]-2, 1:w.shape[1]-1, 1:w.shape[2]-1])\n",
    "        +(1/dx**2)*(\n",
    "                w[1:w.shape[0]-1, 2:w.shape[1],   1:w.shape[2]-1] \n",
    "            - 2*w[1:w.shape[0]-1, 1:w.shape[1]-1, 1:w.shape[2]-1] \n",
    "            + w[1:w.shape[0]-1, 0:w.shape[1]-2, 1:w.shape[2]-1])\n",
    "        +(1/dz**2)*(\n",
    "                w[1:w.shape[0]-1, 1:w.shape[1]-1, 2:w.shape[2]]\n",
    "            - 2*w[1:w.shape[0]-1, 1:w.shape[1]-1, 1:w.shape[2]-1] \n",
    "            + w[1:w.shape[0]-1, 1:w.shape[1]-1, 0:w.shape[2]-2]))\n",
    "    return u"
   ]
  },
  {
   "cell_type": "code",
   "execution_count": 11,
   "metadata": {},
   "outputs": [
    {
     "name": "stdout",
     "output_type": "stream",
     "text": [
      "21.4 ms ± 152 µs per loop (mean ± std. dev. of 7 runs, 1 loop each)\n"
     ]
    }
   ],
   "source": [
    "%%timeit\n",
    "vector_CPU(w,dx,dy,dz)"
   ]
  },
  {
   "cell_type": "markdown",
   "metadata": {},
   "source": [
    "density matrix tensor method on CPU\n"
   ]
  },
  {
   "cell_type": "code",
   "execution_count": 12,
   "metadata": {},
   "outputs": [],
   "source": [
    "N, _, _ = w.shape \n",
    "D = np.eye(N,k=-1) + -2*np.eye(N,k=0) + np.eye(N,k=1)\n",
    "D[0,:] = D[-1,:] = np.zeros((1,N))\n",
    "lap = np.zeros_like(w)"
   ]
  },
  {
   "cell_type": "code",
   "execution_count": 13,
   "metadata": {},
   "outputs": [
    {
     "name": "stdout",
     "output_type": "stream",
     "text": [
      "260 ms ± 2.76 ms per loop (mean ± std. dev. of 7 runs, 1 loop each)\n"
     ]
    }
   ],
   "source": [
    "%%timeit\n",
    "lap = (1/dy**2) * np.einsum('ij,jkl->ikl', D, w) + \\\n",
    "        (1/dx**2) * np.einsum('ij,kjl->kil', D, w) + \\\n",
    "        (1/dz**2) * np.einsum('ij,klj->kli', D, w)"
   ]
  },
  {
   "cell_type": "markdown",
   "metadata": {},
   "source": [
    "sparse matrix on CPU"
   ]
  },
  {
   "cell_type": "code",
   "execution_count": 16,
   "metadata": {},
   "outputs": [],
   "source": [
    "N, _, _ = w.shape\n",
    "ex = np.ones(N)\n",
    "values = np.repeat(ex,3).reshape(3,N)\n",
    "values[1,:] *= -2\n",
    "values[1,0] = values[1,-1]  = 0  \n",
    "values[0,-2] = values[2,1] =  0\n",
    "D = sp.sparse.dia_matrix((values,[-1,0,1]),shape=(N,N))\n",
    "lap = np.zeros_like(w)\n",
    "# D = D.A\n",
    "# i=0"
   ]
  },
  {
   "cell_type": "code",
   "execution_count": 17,
   "metadata": {},
   "outputs": [
    {
     "name": "stdout",
     "output_type": "stream",
     "text": [
      "82 ms ± 866 µs per loop (mean ± std. dev. of 7 runs, 10 loops each)\n"
     ]
    }
   ],
   "source": [
    "%%timeit\n",
    "for i in range(1,N-1):\n",
    "    lap[:, :, i] += (1/dy)**2* (D @ w[:,:,i]) + (1/dx)**2 * (D @ w[:,:,i].T).T\n",
    "    lap[i, :, :] += (1/dz)**2* (D @ w[i,:,:].T).T"
   ]
  },
  {
   "cell_type": "markdown",
   "metadata": {},
   "source": [
    "vectorized method on GPU"
   ]
  },
  {
   "cell_type": "code",
   "execution_count": 27,
   "metadata": {},
   "outputs": [],
   "source": [
    "ww = cp.array(w)\n",
    "Ny,Nx,Nz=ww.shape\n",
    "# boundary is zero\n",
    "u=cp.zeros_like(ww)"
   ]
  },
  {
   "cell_type": "code",
   "execution_count": 22,
   "metadata": {},
   "outputs": [
    {
     "data": {
      "text/plain": [
       "cupy._core.core.ndarray"
      ]
     },
     "execution_count": 22,
     "metadata": {},
     "output_type": "execute_result"
    }
   ],
   "source": [
    "type(u)"
   ]
  },
  {
   "cell_type": "code",
   "execution_count": 28,
   "metadata": {},
   "outputs": [
    {
     "name": "stdout",
     "output_type": "stream",
     "text": [
      "965 µs ± 179 ns per loop (mean ± std. dev. of 7 runs, 1,000 loops each)\n"
     ]
    }
   ],
   "source": [
    "%%timeit\n",
    "u[1:Ny-1,1:Nx-1,1:Nz-1] = (\n",
    "    (1/dy**2)*(\n",
    "            ww[2:Ny,   1:Nx-1, 1:Nz-1] \n",
    "        - 2*ww[1:Ny-1, 1:Nx-1, 1:Nz-1] \n",
    "        + ww[0:Ny-2, 1:Nx-1, 1:Nz-1])\n",
    "    +(1/dx**2)*(\n",
    "            ww[1:Ny-1, 2:Nx,   1:Nz-1] \n",
    "        - 2*ww[1:Ny-1, 1:Nx-1, 1:Nz-1] \n",
    "        + ww[1:Ny-1, 0:Nx-2, 1:Nz-1])\n",
    "    +(1/dz**2)*(\n",
    "            ww[1:Ny-1, 1:Nx-1, 2:Nz]\n",
    "        - 2*ww[1:Ny-1, 1:Nx-1, 1:Nz-1] \n",
    "        + ww[1:Ny-1, 1:Nx-1, 0:Nz-2]))"
   ]
  },
  {
   "cell_type": "markdown",
   "metadata": {},
   "source": [
    "dense matrix tensor method on GPU"
   ]
  },
  {
   "cell_type": "code",
   "execution_count": 33,
   "metadata": {},
   "outputs": [],
   "source": [
    "ww = cp.array(w)\n",
    "N, _, _ = ww.shape \n",
    "D = cp.eye(N,k=-1) + -2*cp.eye(N,k=0) + cp.eye(N,k=1)\n",
    "D[0,:] = D[-1,:] = cp.zeros((1,Nx))\n",
    "lap = cp.zeros_like(ww)"
   ]
  },
  {
   "cell_type": "code",
   "execution_count": 34,
   "metadata": {},
   "outputs": [
    {
     "name": "stdout",
     "output_type": "stream",
     "text": [
      "3.23 ms ± 8.35 µs per loop (mean ± std. dev. of 7 runs, 1,000 loops each)\n"
     ]
    }
   ],
   "source": [
    "%%timeit\n",
    "lap = (1/dy**2) * cp.einsum('ij,jkl->ikl', D, ww) + \\\n",
    "          (1/dx**2) * cp.einsum('ij,kjl->kil', D, ww) + \\\n",
    "          (1/dz**2) * cp.einsum('ij,klj->kli', D, ww)"
   ]
  },
  {
   "cell_type": "markdown",
   "metadata": {},
   "source": [
    "sparse matrix on GPU"
   ]
  },
  {
   "cell_type": "code",
   "execution_count": 37,
   "metadata": {},
   "outputs": [],
   "source": [
    "ww = cp.array(w)\n",
    "N,_,_ = ww.shape\n",
    "ex = cp.ones(N)\n",
    "values = cp.repeat(ex,3).reshape(3,N)\n",
    "values[1,:] *= -2\n",
    "values[1,0] = values[1,-1]  = 0  \n",
    "values[0,-2] = values[2,0] =  0\n",
    "D = cuxsp.sparse.diags(values,[-1,0,1],shape=(N,N))\n",
    "lap = cp.zeros_like(ww)\n",
    "# i = 0\n",
    "# D = D.A"
   ]
  },
  {
   "cell_type": "code",
   "execution_count": 38,
   "metadata": {},
   "outputs": [
    {
     "name": "stdout",
     "output_type": "stream",
     "text": [
      "177 ms ± 1.06 ms per loop (mean ± std. dev. of 7 runs, 10 loops each)\n"
     ]
    }
   ],
   "source": [
    "%%timeit\n",
    "for i in range(1,N-1): \n",
    "    lap[:, :, i] += (1/dy)**2* (D @ ww[:,:,i]) + (1/dx)**2 * ( D @ ww[:,:,i].T ).T\n",
    "    lap[i, :, :] += (1/dz)**2* (D @ ww[i,:,:].T).T"
   ]
  },
  {
   "cell_type": "code",
   "execution_count": 42,
   "metadata": {},
   "outputs": [],
   "source": [
    "import fdel2"
   ]
  },
  {
   "cell_type": "code",
   "execution_count": 40,
   "metadata": {},
   "outputs": [
    {
     "data": {
      "text/plain": [
       "'/home/quojinhao/QOPTICS/Simulation/Practice'"
      ]
     },
     "execution_count": 40,
     "metadata": {},
     "output_type": "execute_result"
    }
   ],
   "source": [
    "pwd"
   ]
  },
  {
   "cell_type": "code",
   "execution_count": 43,
   "metadata": {},
   "outputs": [
    {
     "name": "stdout",
     "output_type": "stream",
     "text": [
      "18.1 ms ± 69.8 µs per loop (mean ± std. dev. of 7 runs, 100 loops each)\n"
     ]
    }
   ],
   "source": [
    "%%timeit\n",
    "fdel2.del2_loop(w,dx,dy,dz)"
   ]
  },
  {
   "cell_type": "code",
   "execution_count": 44,
   "metadata": {},
   "outputs": [
    {
     "name": "stdout",
     "output_type": "stream",
     "text": [
      "6.33 ms ± 99.3 µs per loop (mean ± std. dev. of 7 runs, 100 loops each)\n"
     ]
    }
   ],
   "source": [
    "%%timeit\n",
    "fdel2.del2_ele(w,dx,dy,dz)"
   ]
  }
 ],
 "metadata": {
  "interpreter": {
   "hash": "ed21feba246085e9f4510267531e05a07ba119f74a78c25f5886bcb00c9891d5"
  },
  "kernelspec": {
   "display_name": "Python 3.9.11 ('QOPTICS')",
   "language": "python",
   "name": "python3"
  },
  "language_info": {
   "codemirror_mode": {
    "name": "ipython",
    "version": 3
   },
   "file_extension": ".py",
   "mimetype": "text/x-python",
   "name": "python",
   "nbconvert_exporter": "python",
   "pygments_lexer": "ipython3",
   "version": "3.10.4"
  },
  "orig_nbformat": 4
 },
 "nbformat": 4,
 "nbformat_minor": 2
}
