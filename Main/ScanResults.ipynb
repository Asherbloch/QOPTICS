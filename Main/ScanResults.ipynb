{
 "cells": [
  {
   "cell_type": "code",
   "execution_count": null,
   "metadata": {},
   "outputs": [],
   "source": [
    "import numpy as np\n",
    "import utils.dirutils as dd\n",
    "import matplotlib.pyplot as plt\n",
    "import os\n",
    "import os.path\n",
    "import fnmatch\n",
    "import re\n",
    "%matplotlib widget"
   ]
  },
  {
   "cell_type": "code",
   "execution_count": null,
   "metadata": {},
   "outputs": [],
   "source": [
    "cd ~/Data/tmp"
   ]
  },
  {
   "cell_type": "code",
   "execution_count": null,
   "metadata": {},
   "outputs": [],
   "source": [
    "includes = ['*0000_L1_dt1e-4.h5'] # for files only\n",
    "# includes = ['*0000L6*test.h5'] # for files only\n",
    "excludes = [''] # for dirs and files\n",
    "\n",
    "# transform glob patterns to regular expressions\n",
    "includes = r'|'.join([fnmatch.translate(x) for x in includes])\n",
    "excludes = r'|'.join([fnmatch.translate(x) for x in excludes]) or r'$.'\n",
    "\n",
    "legends = [None]\n",
    "for root, dirs, files in os.walk(os.getcwd()):\n",
    "    \n",
    "    # exclude/include files\n",
    "    files = [os.path.join(root, f) for f in files]\n",
    "    files = [f for f in files if re.match(includes, f)]\n",
    "    files = [f for f in files if not re.match(excludes, f)]\n",
    "\n",
    "sfiles = sorted(files, key=lambda x: int(x.split('/')[-1].split('L')[0][:-1]))\n",
    "\n"
   ]
  },
  {
   "cell_type": "code",
   "execution_count": null,
   "metadata": {},
   "outputs": [],
   "source": [
    "sfiles"
   ]
  },
  {
   "cell_type": "code",
   "execution_count": null,
   "metadata": {},
   "outputs": [],
   "source": [
    "legends = []\n",
    "plt.figure()\n",
    "for file in sfiles:\n",
    "    data = dd.retrieve(file)\n",
    "    Lx = data['Lx']\n",
    "    Nx = data['Nx']\n",
    "    Ly = data['Ly']\n",
    "    Ny = data['Ny']\n",
    "    Lz = data['Lz']\n",
    "    Nz = data['Nz']\n",
    "    x = np.linspace(-Lx, Lx, Nx)\n",
    "    y = np.linspace(-Ly, Ly, Ny)\n",
    "    z = np.linspace(-Lz, Lz, Nz)\n",
    "    dx = np.diff(x)[0]\n",
    "    dy = np.diff(y)[0]\n",
    "    dz = np.diff(z)[0]\n",
    "    psiE = data['psiE']\n",
    "    plt.plot(x, np.abs(psiE[60,:,60])**2*dx*dy*dz)\n",
    "    legends.append(file.split('/')[-1].split('L')[0][:-1])\n",
    "L = dd.retrieve(sfiles[0])['L']\n",
    "plt.title(f\"L={L}\")\n",
    "plt.xlabel(r'x($0.6\\mu m$)')\n",
    "plt.ylabel(r'$|\\psi_{E}|^{2}$')\n",
    "plt.legend(legends)\n",
    "plt.show()"
   ]
  },
  {
   "cell_type": "code",
   "execution_count": null,
   "metadata": {},
   "outputs": [],
   "source": [
    "legends = []\n",
    "plt.figure()\n",
    "for file in sfiles:\n",
    "    data = dd.retrieve(file)\n",
    "    Lx = data['Lx']\n",
    "    Nx = data['Nx']\n",
    "    Ly = data['Ly']\n",
    "    Ny = data['Ny']\n",
    "    Lz = data['Lz']\n",
    "    Nz = data['Nz']\n",
    "    x = np.linspace(-Lx, Lx, Nx)\n",
    "    y = np.linspace(-Ly, Ly, Ny)\n",
    "    z = np.linspace(-Lz, Lz, Nz)\n",
    "    dx = np.diff(x)[0]\n",
    "    dy = np.diff(y)[0]\n",
    "    dz = np.diff(z)[0]\n",
    "    psiE = data['psiE']\n",
    "    plt.plot(x, np.abs(psiE[60,:,60])**2*dx*dy*dz)\n",
    "    legends.append(file.split('/')[-1].split('L')[0])\n",
    "L = dd.retrieve(sfiles[0])['L']\n",
    "plt.title(f\"L={L}\")\n",
    "\n",
    "plt.legend(legends)\n",
    "plt.show()"
   ]
  },
  {
   "cell_type": "code",
   "execution_count": null,
   "metadata": {},
   "outputs": [],
   "source": [
    "path1 = \"/home/quojinhao/Data/tmp/100000_L1_dt1e-4.h5\"\n",
    "data1 = dd.retrieve(path1)\n",
    "conG1 = data1['convergeG']\n",
    "conE1 = data1['convergeE']\n",
    "dw1 = data1['dw']\n",
    "stepJ1 = data1['stepJ']\n",
    "n1 = data1['nj']\n",
    "path2 = \"/home/quojinhao/Data/con_test/100000L1con_test_dt10x.h5\"\n",
    "data2 = dd.retrieve(path2)\n",
    "conG2 = data2['convergeG']\n",
    "conE2 = data2['convergeE']\n",
    "dw2 = data2['dw']\n",
    "stepJ2 = data2['stepJ']\n",
    "n2 = data2['nj']\n",
    "\n",
    "\n",
    "# path5 = \"1000000_L5con_test_dt1e-6.h5\"\n",
    "# data5 = dd.retrieve(path5)\n",
    "# conG5 = data5['convergeG']\n",
    "# conE5 = data5['convergeE']\n",
    "# dw5 = data5['dw']\n",
    "# stepJ5 = data5['stepJ']\n",
    "# n5 = data5['nj']\n",
    "\n",
    "# path6 = \"1000000_L6con_test_dt1e-6.h5\"\n",
    "# data6 = dd.retrieve(path6)\n",
    "# conG6 = data6['convergeG']\n",
    "# conE6 = data6['convergeE']\n",
    "# dw6 = data6['dw']\n",
    "# stepJ6 = data6['stepJ']\n",
    "# n6 = data6['nj']"
   ]
  },
  {
   "cell_type": "code",
   "execution_count": null,
   "metadata": {},
   "outputs": [],
   "source": [
    "10000*1e-4"
   ]
  },
  {
   "cell_type": "code",
   "execution_count": null,
   "metadata": {},
   "outputs": [],
   "source": [
    "plt.figure()\n",
    "Lx = data1['Lx']\n",
    "Nx = data1['Nx']\n",
    "Ly = data1['Ly']\n",
    "Ny = data1['Ny']\n",
    "Lz = data1['Lz']\n",
    "Nz = data1['Nz']\n",
    "x = np.linspace(-Lx, Lx, Nx)\n",
    "y = np.linspace(-Ly, Ly, Ny)\n",
    "z = np.linspace(-Lz, Lz, Nz)\n",
    "dx = np.diff(x)[0]\n",
    "dy = np.diff(y)[0]\n",
    "dz = np.diff(z)[0]\n",
    "psiE = data1['psiE']\n",
    "plt.plot(x, np.abs(psiE[60,:,60])**2*dx*dy*dz)\n",
    "Lx = data2['Lx']\n",
    "Nx = data2['Nx']\n",
    "Ly = data2['Ly']\n",
    "Ny = data2['Ny']\n",
    "Lz = data2['Lz']\n",
    "Nz = data2['Nz']\n",
    "x = np.linspace(-Lx, Lx, Nx)\n",
    "y = np.linspace(-Ly, Ly, Ny)\n",
    "z = np.linspace(-Lz, Lz, Nz)\n",
    "dx = np.diff(x)[0]\n",
    "dy = np.diff(y)[0]\n",
    "dz = np.diff(z)[0]\n",
    "psiE = data2['psiE']\n",
    "plt.plot(x, np.abs(psiE[60,:,60])**2*dx*dy*dz)\n",
    "plt.legend(['1e-4 at 10K-th step','1e-5 at 100K-th step'])\n",
    "plt.xlabel(r'x($0.6\\mu m$)')\n",
    "plt.ylabel(r'$|\\psi_{E}|^{2}$')\n",
    "plt.show()"
   ]
  },
  {
   "cell_type": "code",
   "execution_count": null,
   "metadata": {},
   "outputs": [],
   "source": [
    "path1 = \"100000_L1_dt1e-4.h5\"\n",
    "data1 = dd.retrieve(path1)\n",
    "\n",
    "Lx = data['Lx']\n",
    "Nx = data['Nx']\n",
    "Ly = data['Ly']\n",
    "Ny = data['Ny']\n",
    "Lz = data['Lz']\n",
    "Nz = data['Nz']\n",
    "x = np.linspace(-Lx, Lx, Nx)\n",
    "y = np.linspace(-Ly, Ly, Ny)\n",
    "z = np.linspace(-Lz, Lz, Nz)\n",
    "dx = np.diff(x)[0]\n",
    "dy = np.diff(y)[0]\n",
    "dz = np.diff(z)[0]\n",
    "psiE = data['psiE']\n",
    "LG = data['LG']\n",
    "\n",
    "fig, ax1 = plt.subplots()\n",
    "ax2 = ax1.twinx()\n",
    "ax1.plot(x, np.abs(LG[60,:,60])**2, 'g-')\n",
    "ax2.plot(x, np.abs(psiE[60,:,60])**2*dx*dy*dz, 'b-')\n",
    "\n",
    "ax1.set_xlabel(r'x($0.6\\mu m$)')\n",
    "ax1.set_ylabel(r'$|LG|^{2}$', color='g')\n",
    "ax2.set_ylabel(r'$|\\psi_{E}|^{2}$', color='b')\n",
    "\n",
    "plt.show()\n"
   ]
  },
  {
   "cell_type": "code",
   "execution_count": null,
   "metadata": {},
   "outputs": [],
   "source": [
    "\n",
    "\n",
    "plt.figure()\n",
    "plt.title('dt=1e-4')\n",
    "x = np.arange(stepJ1,n1+1,stepJ1)*dw1\n",
    "plt.plot(x,conE1[1:])\n",
    "plt.xlabel(\"imaginary time\")\n",
    "plt.ylabel(\"Relative error\")\n",
    "\n",
    "plt.show()\n",
    "\n",
    "\n",
    "# plt.figure()\n",
    "# plt.title('dt=1e-6')\n",
    "# x = np.arange(stepJ5,n5+1,stepJ5)*dw5\n",
    "# plt.plot(x,conE1[1:])\n",
    "# plt.plot(x,conE5[1:])\n",
    "# plt.legend([\"L=1\", \"L=5\"])\n",
    "# plt.xlabel(\"imaginary time\")\n",
    "# plt.ylabel(\"Relative error\")\n",
    "\n",
    "# plt.show()\n",
    "\n",
    "\n",
    "# plt.figure()\n",
    "# plt.title('dt=1e-6')\n",
    "# x = np.arange(stepJ6,n6+1,stepJ6)*dw6\n",
    "# plt.plot(x,conE1[1:])\n",
    "# plt.plot(x,conE6[1:])\n",
    "# plt.legend([\"L=1\", \"L=6\"])\n",
    "# plt.xlabel(\"imaginary time\")\n",
    "# plt.ylabel(\"Relative error\")\n",
    "\n",
    "# plt.show()\n",
    "\n",
    "\n",
    "\n"
   ]
  },
  {
   "cell_type": "code",
   "execution_count": null,
   "metadata": {},
   "outputs": [],
   "source": [
    "plt.figure()\n",
    "x = np.arange(stepJ1,n1+1,stepJ1)*dw1\n",
    "plt.plot(x,conE1[1:])\n",
    "plt.xlabel(\"imaginary time\")\n",
    "plt.ylabel(\"Relative error\")\n",
    "\n",
    "plt.show()\n"
   ]
  },
  {
   "cell_type": "code",
   "execution_count": null,
   "metadata": {},
   "outputs": [],
   "source": [
    "plt.close()"
   ]
  },
  {
   "cell_type": "code",
   "execution_count": null,
   "metadata": {},
   "outputs": [],
   "source": [
    "import utils.plotter as pp\n",
    "%matplotlib widget"
   ]
  },
  {
   "cell_type": "code",
   "execution_count": null,
   "metadata": {},
   "outputs": [],
   "source": [
    "path = \"/home/quojinhao/Data/tmp/10000_L1_dt1e-4.h5\"\n",
    "pp.plotdata(path,zindice=[45,55,60,65,75] ,lims=[(45,75),(45,75),(45,75)], plotwhat='phase')"
   ]
  },
  {
   "cell_type": "code",
   "execution_count": null,
   "metadata": {},
   "outputs": [],
   "source": [
    "path = \"/home/quojinhao/Data/con_test/100000L1con_test_dt10x.h5\"\n",
    "pp.plotdata(path,zindice=[45,55,60,65,75] ,lims=[(45,75),(45,75),(45,75)], plotwhat='phase')"
   ]
  },
  {
   "cell_type": "code",
   "execution_count": null,
   "metadata": {},
   "outputs": [],
   "source": [
    "path = \"/home/quojinhao/Data/con_test/100000L1con_test_dt10x.h5\"\n",
    "data = dd.retrieve(path)\n",
    "data['j']"
   ]
  }
 ],
 "metadata": {
  "interpreter": {
   "hash": "fbd65b7e78ea2c03eb59a4903dc509794d6aca13b6925c7b012025836317adb0"
  },
  "kernelspec": {
   "display_name": "Python 3.9.7 ('DASK')",
   "language": "python",
   "name": "python3"
  },
  "language_info": {
   "codemirror_mode": {
    "name": "ipython",
    "version": 3
   },
   "file_extension": ".py",
   "mimetype": "text/x-python",
   "name": "python",
   "nbconvert_exporter": "python",
   "pygments_lexer": "ipython3",
   "version": "3.9.7"
  },
  "orig_nbformat": 4
 },
 "nbformat": 4,
 "nbformat_minor": 2
}
