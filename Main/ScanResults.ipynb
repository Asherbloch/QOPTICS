{
 "cells": [
  {
   "cell_type": "code",
   "execution_count": null,
   "metadata": {},
   "outputs": [],
   "source": [
    "import numpy as np\n",
    "# import cupy as cp\n",
    "import utils.dirutils as dd\n",
    "import matplotlib.pyplot as plt\n",
    "import os\n",
    "import os.path\n",
    "import fnmatch\n",
    "import re\n",
    "\n",
    "%matplotlib widget"
   ]
  },
  {
   "cell_type": "code",
   "execution_count": null,
   "metadata": {},
   "outputs": [],
   "source": [
    "cd ~/Data/tmp"
   ]
  },
  {
   "cell_type": "code",
   "execution_count": null,
   "metadata": {},
   "outputs": [],
   "source": [
    "cd ~/Data/results/archive"
   ]
  },
  {
   "cell_type": "code",
   "execution_count": null,
   "metadata": {},
   "outputs": [],
   "source": [
    "ll *00000_L1*10um*1e-6.h5"
   ]
  },
  {
   "cell_type": "code",
   "execution_count": null,
   "metadata": {},
   "outputs": [],
   "source": [
    "import sys\n",
    "path = \"1000000_L1_10um_1e-6.h5\"\n",
    "# path = \"/mnt/c/Users/Lab/Data/results/LG00_121-121-121.h5\"\n",
    "data = dd.retrieve(path)\n",
    "module = sys.modules[__name__]\n",
    "for name, value in data.items():\n",
    "    setattr(module, name, value)"
   ]
  },
  {
   "cell_type": "code",
   "execution_count": null,
   "metadata": {},
   "outputs": [],
   "source": [
    "dw"
   ]
  },
  {
   "cell_type": "code",
   "execution_count": null,
   "metadata": {},
   "outputs": [],
   "source": [
    "x = np.linspace(-Lx,Lx,Nx)\n",
    "y = np.linspace(-Ly,Ly,Ny)\n",
    "z = np.linspace(-Lz,Lz,Nz)\n",
    "dx = np.diff(x)[0]\n",
    "dy = np.diff(y)[0]\n",
    "dz = np.diff(z)[0]\n",
    "hbar = 1.054571800139113e-34 \n",
    "m = 1.411000000000000e-25\n",
    "unit = np.sqrt(hbar/m/Wz)\n",
    "[X,Y,Z] = np.meshgrid(x,y,z)\n",
    "Epot = ( (Wx**2*X**2 + Wy**2*Y**2 + Wz**2*Z**2 )\n",
    "                / (2*Wz**2) )\n",
    "psiGmu = (15*Ggg / ( 16*np.pi*np.sqrt(2) )  )**(2/5)\n",
    "TF_amp = np.array((psiGmu-Epot)/Ggg)\n",
    "np.clip(TF_amp, 0, np.inf,out=TF_amp)\n",
    "TF_pbb = np.sqrt(TF_amp)\n",
    "total = np.sum(np.abs(TF_pbb)**2*dx*dy*dz)\n",
    "n_TF_pbb = TF_pbb/np.sqrt(total,dtype=np.complex128)"
   ]
  },
  {
   "cell_type": "code",
   "execution_count": null,
   "metadata": {},
   "outputs": [],
   "source": [
    "unit"
   ]
  },
  {
   "cell_type": "code",
   "execution_count": null,
   "metadata": {},
   "outputs": [],
   "source": [
    "# check the hole of L.G. beam\n",
    "plt.figure()\n",
    "plt.plot(x*unit/1e-6,np.abs(LG[60,:,60])**2)\n",
    "plt.xlabel('x(um)')\n",
    "plt.ylabel(\"|TF|^2\")"
   ]
  },
  {
   "cell_type": "code",
   "execution_count": null,
   "metadata": {},
   "outputs": [],
   "source": [
    "plt.figure()\n",
    "plt.plot(x*unit/1e-6,np.abs(n_TF_pbb[60,:,60])**2)\n",
    "plt.xlabel('x(um)')\n",
    "plt.ylabel(\"|TF|^2\")"
   ]
  },
  {
   "cell_type": "code",
   "execution_count": null,
   "metadata": {},
   "outputs": [],
   "source": [
    "np.sqrt(2*psiGmu)*unit/1e-6"
   ]
  },
  {
   "cell_type": "code",
   "execution_count": null,
   "metadata": {},
   "outputs": [],
   "source": [
    "# verify TF radius\n",
    "np.nonzero(n_TF_pbb[60,:,60]!=0)\n",
    "(x[85] - x[35])/2*unit/1e-6"
   ]
  },
  {
   "cell_type": "code",
   "execution_count": null,
   "metadata": {},
   "outputs": [],
   "source": [
    "W0*unit/1e-6"
   ]
  },
  {
   "cell_type": "code",
   "execution_count": null,
   "metadata": {},
   "outputs": [],
   "source": [
    "# verify  beam waist\n",
    "np.max(np.abs(LGdata)**2)*1/np.e**2\n",
    "np.nonzero(np.abs(LGdata[60,:,60])**2 == 0.1353352832366127)\n",
    "x[81] - x[60]"
   ]
  },
  {
   "cell_type": "code",
   "execution_count": null,
   "metadata": {},
   "outputs": [],
   "source": [
    "includes = ['*00000_L1*10um*1e-6.h5'] # for files only\n",
    "# includes = ['*0000L6*test.h5'] # for files only\n",
    "excludes = [''] # for dirs and files\n",
    "\n",
    "# transform glob patterns to regular expressions\n",
    "includes = r'|'.join([fnmatch.translate(x) for x in includes])\n",
    "excludes = r'|'.join([fnmatch.translate(x) for x in excludes]) or r'$.'\n",
    "\n",
    "legends = [None]\n",
    "for root, dirs, files in os.walk(os.getcwd()):\n",
    "    \n",
    "    # exclude/include files\n",
    "    files = [os.path.join(root, f) for f in files]\n",
    "    files = [f for f in files if re.match(includes, f)]\n",
    "    files = [f for f in files if not re.match(excludes, f)]\n",
    "\n",
    "# sfiles = sorted(files, key=lambda x: int(x.split('/')[-1].split('L')[0][:-1]))\n",
    "sfiles = sorted(files, key=lambda x: int(x.split('/')[-1].split('_')[0]))\n"
   ]
  },
  {
   "cell_type": "code",
   "execution_count": null,
   "metadata": {},
   "outputs": [],
   "source": [
    "sfiles"
   ]
  },
  {
   "cell_type": "code",
   "execution_count": null,
   "metadata": {},
   "outputs": [],
   "source": [
    "legends = []\n",
    "plt.figure()\n",
    "for file in sfiles:\n",
    "    data = dd.retrieve(file)\n",
    "    Lx = data['Lx']\n",
    "    Nx = data['Nx']\n",
    "    Ly = data['Ly']\n",
    "    Ny = data['Ny']\n",
    "    Lz = data['Lz']\n",
    "    Nz = data['Nz']\n",
    "    x = np.linspace(-Lx, Lx, Nx)\n",
    "    y = np.linspace(-Ly, Ly, Ny)\n",
    "    z = np.linspace(-Lz, Lz, Nz)\n",
    "    dx = np.diff(x)[0]\n",
    "    dy = np.diff(y)[0]\n",
    "    dz = np.diff(z)[0]\n",
    "    psiE = data['psiE']\n",
    "    plt.plot(x*unit/1e-6, np.abs(psiE[60,:,60])**2*dx*dy*dz)\n",
    "    # legends.append(file.split('/')[-1].split('L')[0][:-1])\n",
    "    legends.append(file.split('/')[-1].split('_')[0])\n",
    "    \n",
    "L = dd.retrieve(sfiles[0])['L']\n",
    "plt.title(f\"L={L}\")\n",
    "plt.xlabel(r'x($\\mu m$)')\n",
    "plt.ylabel(r'$|\\psi_{E}|^{2}$')\n",
    "plt.legend(legends)\n",
    "plt.show()"
   ]
  },
  {
   "cell_type": "code",
   "execution_count": null,
   "metadata": {},
   "outputs": [],
   "source": [
    "sfiles = [sfiles[1],sfiles[2],sfiles[9]]"
   ]
  },
  {
   "cell_type": "code",
   "execution_count": null,
   "metadata": {},
   "outputs": [],
   "source": [
    "sfiles"
   ]
  },
  {
   "cell_type": "code",
   "execution_count": null,
   "metadata": {},
   "outputs": [],
   "source": [
    "legends = []\n",
    "plt.figure()\n",
    "for file in sfiles:\n",
    "    data = dd.retrieve(file)\n",
    "    Lx = data['Lx']\n",
    "    Nx = data['Nx']\n",
    "    Ly = data['Ly']\n",
    "    Ny = data['Ny']\n",
    "    Lz = data['Lz']\n",
    "    Nz = data['Nz']\n",
    "    x = np.linspace(-Lx, Lx, Nx)\n",
    "    y = np.linspace(-Ly, Ly, Ny)\n",
    "    z = np.linspace(-Lz, Lz, Nz)\n",
    "    dx = np.diff(x)[0]\n",
    "    dy = np.diff(y)[0]\n",
    "    dz = np.diff(z)[0]\n",
    "    psiE = data['psiE']\n",
    "    if (file == \"/home/quojinhao/Data/tmp/300000_L1_10um_Light_dt1e-6_halflight.h5\"):\n",
    "        plt.plot(x*unit/1e-6, np.abs(psiE[60,:,60])**2*dx*dy*dz, '--', linewidth=3)\n",
    "    elif (file == \"/home/quojinhao/Data/tmp/200000_L1_10um_Light_dt1e-6_halflight.h5\"):\n",
    "        plt.plot(x*unit/1e-6, np.abs(psiE[60,:,60])**2*dx*dy*dz, '-*', linewidth=0.2)\n",
    "    else:\n",
    "        plt.plot(x*unit/1e-6, np.abs(psiE[60,:,60])**2*dx*dy*dz)\n",
    "    # legends.append(file.split('/')[-1].split('L')[0][:-1])\n",
    "    legends.append(file.split('/')[-1].split('_')[0])\n",
    "    \n",
    "L = dd.retrieve(sfiles[0])['L']\n",
    "plt.title(f\"L={L}\")\n",
    "plt.xlabel(r'x($\\mu m$)')\n",
    "plt.ylabel(r'$|\\psi_{E}|^{2}$')\n",
    "plt.legend(legends)\n",
    "plt.show()"
   ]
  },
  {
   "cell_type": "code",
   "execution_count": null,
   "metadata": {},
   "outputs": [],
   "source": [
    "plt.figure()\n",
    "plt.plot(x,np.abs(LG[60,:,60])**2)\n",
    "plt.plot(x,np.abs(psiE[60,:,60])**2*1000)\n",
    "plt.legend(['LG', 'psiE'])\n",
    "plt.show()\n"
   ]
  },
  {
   "cell_type": "code",
   "execution_count": null,
   "metadata": {},
   "outputs": [],
   "source": [
    "form = \"/mnt/c/Users/Lab/Data/tmp/100000_L{}_10um_1e-6.h5\"\n",
    "datas = [None]*6\n",
    "for i in range(1,7):\n",
    "    file = form.format(i)\n",
    "    data = dd.retrieve(file)\n",
    "    conG = data['convergeG']\n",
    "    conE = data['convergeE']\n",
    "    dw = data['dw']\n",
    "    stepJ = data['stepJ']\n",
    "    n = data['nj']\n",
    "    \n",
    "    datas[i-1] = conE\n",
    "    \n"
   ]
  },
  {
   "cell_type": "code",
   "execution_count": null,
   "metadata": {},
   "outputs": [],
   "source": [
    "\n",
    "plt.figure()\n",
    "plt.title(f'dt={dw}')\n",
    "plt.xlabel(\"imaginary time\")\n",
    "plt.ylabel(\"Relative error\")\n",
    "x = np.arange(stepJ,n+1,stepJ)*dw\n",
    "for i in range(len(datas)):\n",
    "    plt.plot(x,datas[i][1:])\n",
    "\n",
    "plt.legend([f\"L={i}\" for i in range(1,len(datas)+1)])\n",
    "plt.show()"
   ]
  },
  {
   "cell_type": "code",
   "execution_count": null,
   "metadata": {},
   "outputs": [],
   "source": [
    "path = \"100100_L2_test.h5\"\n",
    "data = dd.retrieve(path)\n",
    "\n",
    "Lx = data['Lx']\n",
    "Nx = data['Nx']\n",
    "Ly = data['Ly']\n",
    "Ny = data['Ny']\n",
    "Lz = data['Lz']\n",
    "Nz = data['Nz']\n",
    "x = np.linspace(-Lx, Lx, Nx)\n",
    "y = np.linspace(-Ly, Ly, Ny)\n",
    "z = np.linspace(-Lz, Lz, Nz)\n",
    "dx = np.diff(x)[0]\n",
    "dy = np.diff(y)[0]\n",
    "dz = np.diff(z)[0]\n",
    "psiE = data['psiE']\n",
    "LG = data['LG']\n",
    "\n",
    "fig, ax1 = plt.subplots()\n",
    "ax2 = ax1.twinx()\n",
    "ax1.plot(x, np.abs(LG[60,:,60])**2, 'g-')\n",
    "ax2.plot(x, np.abs(psiE[60,:,60])**2*dx*dy*dz, 'b-')\n",
    "\n",
    "ax1.set_xlabel(r'x($0.6\\mu m$)')\n",
    "ax1.set_ylabel(r'$|LG|^{2}$', color='g')\n",
    "ax2.set_ylabel(r'$|\\psi_{E}|^{2}$', color='b')\n",
    "\n",
    "plt.show()\n"
   ]
  },
  {
   "cell_type": "code",
   "execution_count": null,
   "metadata": {},
   "outputs": [],
   "source": [
    "plt.figure()\n",
    "x = np.arange(stepJ1,n1+1,stepJ1)*dw1\n",
    "plt.plot(x,conE1[1:])\n",
    "plt.xlabel(\"imaginary time\")\n",
    "plt.ylabel(\"Relative error\")\n",
    "plt.show()\n"
   ]
  },
  {
   "cell_type": "code",
   "execution_count": null,
   "metadata": {},
   "outputs": [],
   "source": [
    "plt.close()"
   ]
  },
  {
   "cell_type": "code",
   "execution_count": null,
   "metadata": {},
   "outputs": [],
   "source": [
    "import utils.plotter as pp\n",
    "%matplotlib widget"
   ]
  },
  {
   "cell_type": "code",
   "execution_count": null,
   "metadata": {},
   "outputs": [],
   "source": [
    "cd ~/Data/results/archive"
   ]
  },
  {
   "cell_type": "code",
   "execution_count": null,
   "metadata": {},
   "outputs": [],
   "source": [
    "pwd"
   ]
  },
  {
   "cell_type": "code",
   "execution_count": null,
   "metadata": {},
   "outputs": [],
   "source": [
    "path = \"1000000_L1_10um_1e-6.h5\"\n",
    "pp.plotdata(path,zindice=[35,45,60,75,85] ,lims=[(35,85),(35,85),(35,85)], plotwhat='phase',current=True)"
   ]
  },
  {
   "cell_type": "code",
   "execution_count": null,
   "metadata": {},
   "outputs": [],
   "source": [
    "path = \"1000000_L1_10um_1e-6.h5\"\n",
    "pp.plotdata(path,zindice=[35,45,60,75,85] ,lims=[(35,85),(35,85),(35,85)], plotwhat='intensity')"
   ]
  },
  {
   "cell_type": "code",
   "execution_count": null,
   "metadata": {},
   "outputs": [],
   "source": [
    "path = \"/home/quojinhao/Data/tmp/1000000_L1_10um_Light_dt1e-6_halflight.h5\"\n",
    "pp.plotdata(path,zindice=[35,45,60,75,85] ,lims=[(35,85),(35,85),(35,85)], current=True)"
   ]
  }
 ],
 "metadata": {
  "interpreter": {
   "hash": "4db8fc868a589106ab12c17721fce00b67172d868821f30e7d96bf597b70d9f2"
  },
  "kernelspec": {
   "display_name": "Python 3.10.4 ('QuTiP')",
   "language": "python",
   "name": "python3"
  },
  "language_info": {
   "codemirror_mode": {
    "name": "ipython",
    "version": 3
   },
   "file_extension": ".py",
   "mimetype": "text/x-python",
   "name": "python",
   "nbconvert_exporter": "python",
   "pygments_lexer": "ipython3",
   "version": "3.10.4"
  }
 },
 "nbformat": 4,
 "nbformat_minor": 4
}
