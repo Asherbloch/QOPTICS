{
 "cells": [
  {
   "cell_type": "code",
   "execution_count": null,
   "metadata": {},
   "outputs": [],
   "source": [
    "import os\n",
    "import dask\n",
    "from time import sleep\n",
    "import utils.dirutils as dd\n",
    "from dask.distributed import Client\n",
    "import cupy as cp\n",
    "import numpy as np\n",
    "from dask_jobqueue import SLURMCluster\n",
    "# import scipy as sp\n",
    "# from numba import njit\n",
    "import computation2_cluster as cc\n",
    "import utils.dirutils as dd"
   ]
  },
  {
   "cell_type": "code",
   "execution_count": 3,
   "metadata": {},
   "outputs": [
    {
     "data": {
      "text/plain": [
       "6.128258770283413"
      ]
     },
     "execution_count": 3,
     "metadata": {},
     "output_type": "execute_result"
    }
   ],
   "source": [
    "(18**(3/2)-2**(3/2))*1/12"
   ]
  },
  {
   "cell_type": "code",
   "execution_count": 6,
   "metadata": {},
   "outputs": [
    {
     "data": {
      "text/plain": [
       "6.128258770283413"
      ]
     },
     "execution_count": 6,
     "metadata": {},
     "output_type": "execute_result"
    }
   ],
   "source": [
    "import numpy as np\n",
    "13*np.sqrt(2)/3"
   ]
  },
  {
   "cell_type": "code",
   "execution_count": null,
   "metadata": {},
   "outputs": [],
   "source": [
    "path = dd.base()\n",
    "daskpath=os.path.join(path, \"dask-worker-space-can-be-deleted\")\n",
    "try: \n",
    "    os.mkdir(daskpath) \n",
    "except OSError as error: \n",
    "    print(error)\t\t \n",
    "\n",
    "# proc * threads = 18(cores)\n",
    "# cluster = SLURMCluster(log_directory=daskpath) \n",
    "cluster = SLURMCluster(\n",
    "    cores=12,\n",
    "    queue='gpu',\n",
    "    processes=3,\n",
    "    log_directory=daskpath\n",
    ")   \n",
    "\n",
    "print(cluster.job_script())\n",
    "cluster.scale(jobs=1) # 1 nodes\n",
    "sleep(15)\n",
    "client = Client(cluster)\n",
    "client.amm.start()"
   ]
  },
  {
   "cell_type": "code",
   "execution_count": null,
   "metadata": {},
   "outputs": [],
   "source": [
    "client"
   ]
  },
  {
   "cell_type": "code",
   "execution_count": null,
   "metadata": {},
   "outputs": [],
   "source": [
    "P1 = np.arange(1,3)\n",
    "P2 = np.arange(3,5)\n",
    "P3 = np.arange(5,7)\n",
    "fileformat = \"L{}widerbeam.h5\"\n",
    "nj = 100000\n",
    "stepj = nj//10"
   ]
  },
  {
   "cell_type": "code",
   "execution_count": null,
   "metadata": {},
   "outputs": [],
   "source": [
    "def setup_gpu_worker(i):\n",
    "    sleep(1.5)\n",
    "    cp.cuda.Device(i).use()\n",
    "    sleep(1.5)\n",
    "with dask.annotate(resources={'gpu': 1}): # must included. proc--one-to-one--gpu\n",
    "    setupGPUs = [ client.submit( setup_gpu_worker, i ) for i in range(3) ]"
   ]
  },
  {
   "cell_type": "code",
   "execution_count": null,
   "metadata": {},
   "outputs": [],
   "source": [
    "with dask.annotate(resources={'gpu': 1}): # must included. proc--one-to-one--gpu\n",
    "    future1 = client.submit(cc.computation, P1, nj, stepj, fileformat)\n",
    "    future2 = client.submit(cc.computation, P2, nj, stepj, fileformat)\n",
    "    future3 = client.submit(cc.computation, P3, nj, stepj, fileformat)\n",
    "# client.close()\n",
    "# cluster.close()"
   ]
  },
  {
   "cell_type": "code",
   "execution_count": null,
   "metadata": {},
   "outputs": [],
   "source": [
    "client.cancel(future1)\n",
    "client.cancel(future2)\n",
    "client.cancel(future3)"
   ]
  },
  {
   "cell_type": "code",
   "execution_count": null,
   "metadata": {},
   "outputs": [],
   "source": [
    "client.close()\n",
    "cluster.close()"
   ]
  },
  {
   "cell_type": "code",
   "execution_count": null,
   "metadata": {},
   "outputs": [],
   "source": [
    "client.restart()"
   ]
  },
  {
   "cell_type": "code",
   "execution_count": null,
   "metadata": {},
   "outputs": [],
   "source": [
    "# cd ~/Data"
   ]
  }
 ],
 "metadata": {
  "interpreter": {
   "hash": "fbd65b7e78ea2c03eb59a4903dc509794d6aca13b6925c7b012025836317adb0"
  },
  "kernelspec": {
   "display_name": "Python 3.9.7 ('DASK')",
   "language": "python",
   "name": "python3"
  },
  "language_info": {
   "codemirror_mode": {
    "name": "ipython",
    "version": 3
   },
   "file_extension": ".py",
   "mimetype": "text/x-python",
   "name": "python",
   "nbconvert_exporter": "python",
   "pygments_lexer": "ipython3",
   "version": "3.9.7"
  }
 },
 "nbformat": 4,
 "nbformat_minor": 4
}
