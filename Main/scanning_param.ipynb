{
 "cells": [
  {
   "cell_type": "code",
   "execution_count": 1,
   "metadata": {},
   "outputs": [],
   "source": [
    "from dask_cuda import LocalCUDACluster\n",
    "from dask.distributed import Client\n",
    "import cupyx.scipy as cuxsp\n",
    "import numpy as np\n",
    "import cupy as cp\n",
    "import scipy as sp\n",
    "from numba import njit\n",
    "import h5py\n",
    "\n"
   ]
  },
  {
   "cell_type": "code",
   "execution_count": 2,
   "metadata": {},
   "outputs": [
    {
     "name": "stderr",
     "output_type": "stream",
     "text": [
      "2022-05-12 23:50:41,154 - distributed.preloading - INFO - Import preload module: dask_cuda.initialize\n",
      "2022-05-12 23:50:41,157 - distributed.preloading - INFO - Import preload module: dask_cuda.initialize\n",
      "2022-05-12 23:50:41,171 - distributed.preloading - INFO - Import preload module: dask_cuda.initialize\n",
      "2022-05-12 23:50:41,192 - distributed.preloading - INFO - Import preload module: dask_cuda.initialize\n"
     ]
    },
    {
     "data": {
      "text/plain": [
       "'http://127.0.0.1:8787/status'"
      ]
     },
     "execution_count": 2,
     "metadata": {},
     "output_type": "execute_result"
    }
   ],
   "source": [
    "cluster = LocalCUDACluster()\n",
    "client = Client(cluster)\n",
    "cluster.dashboard_link"
   ]
  },
  {
   "cell_type": "code",
   "execution_count": null,
   "metadata": {},
   "outputs": [],
   "source": [
    "cluster.get_logs()"
   ]
  },
  {
   "cell_type": "code",
   "execution_count": 3,
   "metadata": {},
   "outputs": [],
   "source": [
    "import computation2_cluster as cc"
   ]
  },
  {
   "cell_type": "code",
   "execution_count": 18,
   "metadata": {},
   "outputs": [],
   "source": [
    "\n",
    "# L1 = np.array([1,2])\n",
    "# L2 = np.array([3,4])\n",
    "# L3 = np.array([5,6])\n",
    "# L4 = np.array([7,8])\n",
    "\n",
    "#test\n",
    "L1 = L2 = L3 = L4 = np.ones(10)"
   ]
  },
  {
   "cell_type": "code",
   "execution_count": 31,
   "metadata": {},
   "outputs": [
    {
     "name": "stdout",
     "output_type": "stream",
     "text": [
      "storing succeeded!\n"
     ]
    }
   ],
   "source": [
    "n = 500\n",
    "future =  client.submit(cc.computation,L1, n,n-1,\"scan_param_L12\",0) \n",
    "# future1 =  client.submit(cc.computation,L2,n,n-1,\"scan_param_L34\",1) \n",
    "# future2 =  client.submit(cc.computation,L3,n,n-1,\"scan_param_L56\",2) \n",
    "# future3 =  client.submit(cc.computation,L4,n,n-1,\"scan_param_L78\",3)\n"
   ]
  },
  {
   "cell_type": "code",
   "execution_count": 21,
   "metadata": {},
   "outputs": [
    {
     "name": "stdout",
     "output_type": "stream",
     "text": [
      "(<CUDA Device 0>, <CUDA Device 0>, <CUDA Device 0>)\n",
      "(<CUDA Device 1>, <CUDA Device 1>, <CUDA Device 1>)\n",
      "(<CUDA Device 3>, <CUDA Device 3>, <CUDA Device 3>)\n"
     ]
    }
   ],
   "source": [
    "\n",
    "print(future.result())\n",
    "print(future1.result())\n",
    "# print(future2.result())\n",
    "print(future3.result())"
   ]
  },
  {
   "cell_type": "code",
   "execution_count": 32,
   "metadata": {},
   "outputs": [],
   "source": [
    "client.cancel(future)\n",
    "# client.cancel(future1)\n",
    "# client.cancel(future2)\n",
    "# client.cancel(future3)"
   ]
  },
  {
   "cell_type": "code",
   "execution_count": 8,
   "metadata": {},
   "outputs": [],
   "source": [
    "client.close()\n",
    "cluster.close()\n"
   ]
  },
  {
   "cell_type": "code",
   "execution_count": 25,
   "metadata": {},
   "outputs": [
    {
     "name": "stderr",
     "output_type": "stream",
     "text": [
      "2022-05-12 23:59:25,218 - distributed.preloading - INFO - Import preload module: dask_cuda.initialize\n",
      "2022-05-12 23:59:25,304 - distributed.preloading - INFO - Import preload module: dask_cuda.initialize\n",
      "2022-05-12 23:59:25,331 - distributed.preloading - INFO - Import preload module: dask_cuda.initialize\n",
      "2022-05-12 23:59:25,462 - distributed.preloading - INFO - Import preload module: dask_cuda.initialize\n"
     ]
    },
    {
     "data": {
      "text/html": [
       "<div>\n",
       "    <div style=\"width: 24px; height: 24px; background-color: #e1e1e1; border: 3px solid #9D9D9D; border-radius: 5px; position: absolute;\"> </div>\n",
       "    <div style=\"margin-left: 48px;\">\n",
       "        <h3 style=\"margin-bottom: 0px;\">Client</h3>\n",
       "        <p style=\"color: #9D9D9D; margin-bottom: 0px;\">Client-46d75778-d20b-11ec-ab92-bccf4ffcc745</p>\n",
       "        <table style=\"width: 100%; text-align: left;\">\n",
       "\n",
       "        <tr>\n",
       "        \n",
       "            <td style=\"text-align: left;\"><strong>Connection method:</strong> Cluster object</td>\n",
       "            <td style=\"text-align: left;\"><strong>Cluster type:</strong> dask_cuda.LocalCUDACluster</td>\n",
       "        \n",
       "        </tr>\n",
       "\n",
       "        \n",
       "            <tr>\n",
       "                <td style=\"text-align: left;\">\n",
       "                    <strong>Dashboard: </strong> <a href=\"http://127.0.0.1:8787/status\" target=\"_blank\">http://127.0.0.1:8787/status</a>\n",
       "                </td>\n",
       "                <td style=\"text-align: left;\"></td>\n",
       "            </tr>\n",
       "        \n",
       "\n",
       "        </table>\n",
       "\n",
       "        \n",
       "            <details>\n",
       "            <summary style=\"margin-bottom: 20px;\"><h3 style=\"display: inline;\">Cluster Info</h3></summary>\n",
       "            <div class=\"jp-RenderedHTMLCommon jp-RenderedHTML jp-mod-trusted jp-OutputArea-output\">\n",
       "    <div style=\"width: 24px; height: 24px; background-color: #e1e1e1; border: 3px solid #9D9D9D; border-radius: 5px; position: absolute;\">\n",
       "    </div>\n",
       "    <div style=\"margin-left: 48px;\">\n",
       "        <h3 style=\"margin-bottom: 0px; margin-top: 0px;\">LocalCUDACluster</h3>\n",
       "        <p style=\"color: #9D9D9D; margin-bottom: 0px;\">2f5009ff</p>\n",
       "        <table style=\"width: 100%; text-align: left;\">\n",
       "            <tr>\n",
       "                <td style=\"text-align: left;\">\n",
       "                    <strong>Dashboard:</strong> <a href=\"http://127.0.0.1:8787/status\" target=\"_blank\">http://127.0.0.1:8787/status</a>\n",
       "                </td>\n",
       "                <td style=\"text-align: left;\">\n",
       "                    <strong>Workers:</strong> 4\n",
       "                </td>\n",
       "            </tr>\n",
       "            <tr>\n",
       "                <td style=\"text-align: left;\">\n",
       "                    <strong>Total threads:</strong> 4\n",
       "                </td>\n",
       "                <td style=\"text-align: left;\">\n",
       "                    <strong>Total memory:</strong> 251.30 GiB\n",
       "                </td>\n",
       "            </tr>\n",
       "            \n",
       "            <tr>\n",
       "    <td style=\"text-align: left;\"><strong>Status:</strong> running</td>\n",
       "    <td style=\"text-align: left;\"><strong>Using processes:</strong> True</td>\n",
       "</tr>\n",
       "\n",
       "            \n",
       "        </table>\n",
       "\n",
       "        <details>\n",
       "            <summary style=\"margin-bottom: 20px;\">\n",
       "                <h3 style=\"display: inline;\">Scheduler Info</h3>\n",
       "            </summary>\n",
       "\n",
       "            <div style=\"\">\n",
       "    <div>\n",
       "        <div style=\"width: 24px; height: 24px; background-color: #FFF7E5; border: 3px solid #FF6132; border-radius: 5px; position: absolute;\"> </div>\n",
       "        <div style=\"margin-left: 48px;\">\n",
       "            <h3 style=\"margin-bottom: 0px;\">Scheduler</h3>\n",
       "            <p style=\"color: #9D9D9D; margin-bottom: 0px;\">Scheduler-01673756-dad1-4f03-80dc-0d268479eb0f</p>\n",
       "            <table style=\"width: 100%; text-align: left;\">\n",
       "                <tr>\n",
       "                    <td style=\"text-align: left;\">\n",
       "                        <strong>Comm:</strong> tcp://127.0.0.1:45827\n",
       "                    </td>\n",
       "                    <td style=\"text-align: left;\">\n",
       "                        <strong>Workers:</strong> 4\n",
       "                    </td>\n",
       "                </tr>\n",
       "                <tr>\n",
       "                    <td style=\"text-align: left;\">\n",
       "                        <strong>Dashboard:</strong> <a href=\"http://127.0.0.1:8787/status\" target=\"_blank\">http://127.0.0.1:8787/status</a>\n",
       "                    </td>\n",
       "                    <td style=\"text-align: left;\">\n",
       "                        <strong>Total threads:</strong> 4\n",
       "                    </td>\n",
       "                </tr>\n",
       "                <tr>\n",
       "                    <td style=\"text-align: left;\">\n",
       "                        <strong>Started:</strong> 8 minutes ago\n",
       "                    </td>\n",
       "                    <td style=\"text-align: left;\">\n",
       "                        <strong>Total memory:</strong> 251.30 GiB\n",
       "                    </td>\n",
       "                </tr>\n",
       "            </table>\n",
       "        </div>\n",
       "    </div>\n",
       "\n",
       "    <details style=\"margin-left: 48px;\">\n",
       "        <summary style=\"margin-bottom: 20px;\">\n",
       "            <h3 style=\"display: inline;\">Workers</h3>\n",
       "        </summary>\n",
       "\n",
       "        \n",
       "        <div style=\"margin-bottom: 20px;\">\n",
       "            <div style=\"width: 24px; height: 24px; background-color: #DBF5FF; border: 3px solid #4CC9FF; border-radius: 5px; position: absolute;\"> </div>\n",
       "            <div style=\"margin-left: 48px;\">\n",
       "            <details>\n",
       "                <summary>\n",
       "                    <h4 style=\"margin-bottom: 0px; display: inline;\">Worker: 0</h4>\n",
       "                </summary>\n",
       "                <table style=\"width: 100%; text-align: left;\">\n",
       "                    <tr>\n",
       "                        <td style=\"text-align: left;\">\n",
       "                            <strong>Comm: </strong> tcp://127.0.0.1:46087\n",
       "                        </td>\n",
       "                        <td style=\"text-align: left;\">\n",
       "                            <strong>Total threads: </strong> 1\n",
       "                        </td>\n",
       "                    </tr>\n",
       "                    <tr>\n",
       "                        <td style=\"text-align: left;\">\n",
       "                            <strong>Dashboard: </strong> <a href=\"http://127.0.0.1:37985/status\" target=\"_blank\">http://127.0.0.1:37985/status</a>\n",
       "                        </td>\n",
       "                        <td style=\"text-align: left;\">\n",
       "                            <strong>Memory: </strong> 62.82 GiB\n",
       "                        </td>\n",
       "                    </tr>\n",
       "                    <tr>\n",
       "                        <td style=\"text-align: left;\">\n",
       "                            <strong>Nanny: </strong> tcp://127.0.0.1:37617\n",
       "                        </td>\n",
       "                        <td style=\"text-align: left;\"></td>\n",
       "                    </tr>\n",
       "                    <tr>\n",
       "                        <td colspan=\"2\" style=\"text-align: left;\">\n",
       "                            <strong>Local directory: </strong> /home/quojinhao/QOPTICS/Main/dask-worker-space/worker-_920qgnx\n",
       "                        </td>\n",
       "                    </tr>\n",
       "\n",
       "                    \n",
       "                    <tr>\n",
       "                        <td style=\"text-align: left;\">\n",
       "                            <strong>GPU: </strong>NVIDIA GeForce RTX 2080 Ti\n",
       "                        </td>\n",
       "                        <td style=\"text-align: left;\">\n",
       "                            <strong>GPU memory: </strong> 11.00 GiB\n",
       "                        </td>\n",
       "                    </tr>\n",
       "                    \n",
       "\n",
       "                    \n",
       "\n",
       "                </table>\n",
       "            </details>\n",
       "            </div>\n",
       "        </div>\n",
       "        \n",
       "        <div style=\"margin-bottom: 20px;\">\n",
       "            <div style=\"width: 24px; height: 24px; background-color: #DBF5FF; border: 3px solid #4CC9FF; border-radius: 5px; position: absolute;\"> </div>\n",
       "            <div style=\"margin-left: 48px;\">\n",
       "            <details>\n",
       "                <summary>\n",
       "                    <h4 style=\"margin-bottom: 0px; display: inline;\">Worker: 1</h4>\n",
       "                </summary>\n",
       "                <table style=\"width: 100%; text-align: left;\">\n",
       "                    <tr>\n",
       "                        <td style=\"text-align: left;\">\n",
       "                            <strong>Comm: </strong> tcp://127.0.0.1:40757\n",
       "                        </td>\n",
       "                        <td style=\"text-align: left;\">\n",
       "                            <strong>Total threads: </strong> 1\n",
       "                        </td>\n",
       "                    </tr>\n",
       "                    <tr>\n",
       "                        <td style=\"text-align: left;\">\n",
       "                            <strong>Dashboard: </strong> <a href=\"http://127.0.0.1:46297/status\" target=\"_blank\">http://127.0.0.1:46297/status</a>\n",
       "                        </td>\n",
       "                        <td style=\"text-align: left;\">\n",
       "                            <strong>Memory: </strong> 62.82 GiB\n",
       "                        </td>\n",
       "                    </tr>\n",
       "                    <tr>\n",
       "                        <td style=\"text-align: left;\">\n",
       "                            <strong>Nanny: </strong> tcp://127.0.0.1:38529\n",
       "                        </td>\n",
       "                        <td style=\"text-align: left;\"></td>\n",
       "                    </tr>\n",
       "                    <tr>\n",
       "                        <td colspan=\"2\" style=\"text-align: left;\">\n",
       "                            <strong>Local directory: </strong> /home/quojinhao/QOPTICS/Main/dask-worker-space/worker-puwpq49p\n",
       "                        </td>\n",
       "                    </tr>\n",
       "\n",
       "                    \n",
       "                    <tr>\n",
       "                        <td style=\"text-align: left;\">\n",
       "                            <strong>GPU: </strong>NVIDIA GeForce RTX 2080 Ti\n",
       "                        </td>\n",
       "                        <td style=\"text-align: left;\">\n",
       "                            <strong>GPU memory: </strong> 11.00 GiB\n",
       "                        </td>\n",
       "                    </tr>\n",
       "                    \n",
       "\n",
       "                    \n",
       "\n",
       "                </table>\n",
       "            </details>\n",
       "            </div>\n",
       "        </div>\n",
       "        \n",
       "        <div style=\"margin-bottom: 20px;\">\n",
       "            <div style=\"width: 24px; height: 24px; background-color: #DBF5FF; border: 3px solid #4CC9FF; border-radius: 5px; position: absolute;\"> </div>\n",
       "            <div style=\"margin-left: 48px;\">\n",
       "            <details>\n",
       "                <summary>\n",
       "                    <h4 style=\"margin-bottom: 0px; display: inline;\">Worker: 2</h4>\n",
       "                </summary>\n",
       "                <table style=\"width: 100%; text-align: left;\">\n",
       "                    <tr>\n",
       "                        <td style=\"text-align: left;\">\n",
       "                            <strong>Comm: </strong> tcp://127.0.0.1:46869\n",
       "                        </td>\n",
       "                        <td style=\"text-align: left;\">\n",
       "                            <strong>Total threads: </strong> 1\n",
       "                        </td>\n",
       "                    </tr>\n",
       "                    <tr>\n",
       "                        <td style=\"text-align: left;\">\n",
       "                            <strong>Dashboard: </strong> <a href=\"http://127.0.0.1:35037/status\" target=\"_blank\">http://127.0.0.1:35037/status</a>\n",
       "                        </td>\n",
       "                        <td style=\"text-align: left;\">\n",
       "                            <strong>Memory: </strong> 62.82 GiB\n",
       "                        </td>\n",
       "                    </tr>\n",
       "                    <tr>\n",
       "                        <td style=\"text-align: left;\">\n",
       "                            <strong>Nanny: </strong> tcp://127.0.0.1:36787\n",
       "                        </td>\n",
       "                        <td style=\"text-align: left;\"></td>\n",
       "                    </tr>\n",
       "                    <tr>\n",
       "                        <td colspan=\"2\" style=\"text-align: left;\">\n",
       "                            <strong>Local directory: </strong> /home/quojinhao/QOPTICS/Main/dask-worker-space/worker-ortg8mcw\n",
       "                        </td>\n",
       "                    </tr>\n",
       "\n",
       "                    \n",
       "                    <tr>\n",
       "                        <td style=\"text-align: left;\">\n",
       "                            <strong>GPU: </strong>NVIDIA GeForce RTX 2080 Ti\n",
       "                        </td>\n",
       "                        <td style=\"text-align: left;\">\n",
       "                            <strong>GPU memory: </strong> 11.00 GiB\n",
       "                        </td>\n",
       "                    </tr>\n",
       "                    \n",
       "\n",
       "                    \n",
       "\n",
       "                </table>\n",
       "            </details>\n",
       "            </div>\n",
       "        </div>\n",
       "        \n",
       "        <div style=\"margin-bottom: 20px;\">\n",
       "            <div style=\"width: 24px; height: 24px; background-color: #DBF5FF; border: 3px solid #4CC9FF; border-radius: 5px; position: absolute;\"> </div>\n",
       "            <div style=\"margin-left: 48px;\">\n",
       "            <details>\n",
       "                <summary>\n",
       "                    <h4 style=\"margin-bottom: 0px; display: inline;\">Worker: 3</h4>\n",
       "                </summary>\n",
       "                <table style=\"width: 100%; text-align: left;\">\n",
       "                    <tr>\n",
       "                        <td style=\"text-align: left;\">\n",
       "                            <strong>Comm: </strong> tcp://127.0.0.1:44725\n",
       "                        </td>\n",
       "                        <td style=\"text-align: left;\">\n",
       "                            <strong>Total threads: </strong> 1\n",
       "                        </td>\n",
       "                    </tr>\n",
       "                    <tr>\n",
       "                        <td style=\"text-align: left;\">\n",
       "                            <strong>Dashboard: </strong> <a href=\"http://127.0.0.1:41621/status\" target=\"_blank\">http://127.0.0.1:41621/status</a>\n",
       "                        </td>\n",
       "                        <td style=\"text-align: left;\">\n",
       "                            <strong>Memory: </strong> 62.82 GiB\n",
       "                        </td>\n",
       "                    </tr>\n",
       "                    <tr>\n",
       "                        <td style=\"text-align: left;\">\n",
       "                            <strong>Nanny: </strong> tcp://127.0.0.1:33627\n",
       "                        </td>\n",
       "                        <td style=\"text-align: left;\"></td>\n",
       "                    </tr>\n",
       "                    <tr>\n",
       "                        <td colspan=\"2\" style=\"text-align: left;\">\n",
       "                            <strong>Local directory: </strong> /home/quojinhao/QOPTICS/Main/dask-worker-space/worker-eqgzeqg4\n",
       "                        </td>\n",
       "                    </tr>\n",
       "\n",
       "                    \n",
       "                    <tr>\n",
       "                        <td style=\"text-align: left;\">\n",
       "                            <strong>GPU: </strong>NVIDIA GeForce RTX 2080 Ti\n",
       "                        </td>\n",
       "                        <td style=\"text-align: left;\">\n",
       "                            <strong>GPU memory: </strong> 11.00 GiB\n",
       "                        </td>\n",
       "                    </tr>\n",
       "                    \n",
       "\n",
       "                    \n",
       "\n",
       "                </table>\n",
       "            </details>\n",
       "            </div>\n",
       "        </div>\n",
       "        \n",
       "\n",
       "    </details>\n",
       "</div>\n",
       "\n",
       "        </details>\n",
       "    </div>\n",
       "</div>\n",
       "            </details>\n",
       "        \n",
       "\n",
       "    </div>\n",
       "</div>"
      ],
      "text/plain": [
       "<Client: 'tcp://127.0.0.1:45827' processes=2 threads=2, memory=125.65 GiB>"
      ]
     },
     "execution_count": 25,
     "metadata": {},
     "output_type": "execute_result"
    }
   ],
   "source": [
    "client.restart()"
   ]
  },
  {
   "cell_type": "code",
   "execution_count": 28,
   "metadata": {},
   "outputs": [
    {
     "name": "stdout",
     "output_type": "stream",
     "text": [
      "retrieving succeeded!\n"
     ]
    }
   ],
   "source": [
    "path = r\"/home/quojinhao/Data/scan_param_L12.h5\"\n",
    "with h5py.File(path, \"r\") as f:\n",
    "    psiGT1 = f['psiG'][...]\n",
    "    psiET1 = f['psiE'][...]   \n",
    "    LGT1 = f['LG'][...] \n",
    "    Nx = f['Metaparameters/Nx'][()]\n",
    "    Ny = f['Metaparameters/Ny'][()]\n",
    "    Nz = f['Metaparameters/Nz'][()]\n",
    "    Lx = f['Metaparameters/Lx'][()]\n",
    "    Ly = f['Metaparameters/Ly'][()]\n",
    "    Lz = f['Metaparameters/Lz'][()]\n",
    "    dw = f['Metaparameters/dw'][()]\n",
    "    As = f['Parameters/As'][()]\n",
    "    Nbec = f['Parameters/Nbec'][()]\n",
    "    Rabi = f['Parameters/Rabi'][()]\n",
    "    Wx = f['Parameters/Wx'][()]\n",
    "    Wy = f['Parameters/Wy'][()]\n",
    "    Wz = f['Parameters/Wz'][()]\n",
    "    dw = f['Parameters/dw'][()]\n",
    "    Ggg = f['Parameters/Ggg'][()]\n",
    "    Gee = f['Parameters/Gee'][()]\n",
    "    Gge = f['Parameters/Gge'][()]\n",
    "    Geg = f['Parameters/Geg'][()]\n",
    "    # m = f['Parameters/m'][()]\n",
    "    print(\"retrieving succeeded!\")"
   ]
  },
  {
   "cell_type": "code",
   "execution_count": 29,
   "metadata": {},
   "outputs": [
    {
     "name": "stdout",
     "output_type": "stream",
     "text": [
      "retrieving succeeded!\n"
     ]
    }
   ],
   "source": [
    "path = r\"/home/quojinhao/Data/scan_param_L34.h5\"\n",
    "with h5py.File(path, \"r\") as f:\n",
    "    psiGT2 = f['psiG'][...]\n",
    "    psiET2 = f['psiE'][...]   \n",
    "    LGT2 = f['LG'][...] \n",
    "    Nx = f['Metaparameters/Nx'][()]\n",
    "    Ny = f['Metaparameters/Ny'][()]\n",
    "    Nz = f['Metaparameters/Nz'][()]\n",
    "    Lx = f['Metaparameters/Lx'][()]\n",
    "    Ly = f['Metaparameters/Ly'][()]\n",
    "    Lz = f['Metaparameters/Lz'][()]\n",
    "    dw = f['Metaparameters/dw'][()]\n",
    "    As = f['Parameters/As'][()]\n",
    "    Nbec = f['Parameters/Nbec'][()]\n",
    "    Rabi = f['Parameters/Rabi'][()]\n",
    "    Wx = f['Parameters/Wx'][()]\n",
    "    Wy = f['Parameters/Wy'][()]\n",
    "    Wz = f['Parameters/Wz'][()]\n",
    "    dw = f['Parameters/dw'][()]\n",
    "    Ggg = f['Parameters/Ggg'][()]\n",
    "    Gee = f['Parameters/Gee'][()]\n",
    "    Gge = f['Parameters/Gge'][()]\n",
    "    Geg = f['Parameters/Geg'][()]\n",
    "    # m = f['Parameters/m'][()]\n",
    "    print(\"retrieving succeeded!\")"
   ]
  },
  {
   "cell_type": "code",
   "execution_count": 30,
   "metadata": {},
   "outputs": [
    {
     "name": "stdout",
     "output_type": "stream",
     "text": [
      "retrieving succeeded!\n"
     ]
    }
   ],
   "source": [
    "path = r\"/home/quojinhao/Data/scan_param_L56.h5\"\n",
    "with h5py.File(path, \"r\") as f:\n",
    "    psiGT3 = f['psiG'][...]\n",
    "    psiET3 = f['psiE'][...]\n",
    "    LGT3 = f['LG'][...]\n",
    "    Nx = f['Metaparameters/Nx'][()]\n",
    "    Ny = f['Metaparameters/Ny'][()]\n",
    "    Nz = f['Metaparameters/Nz'][()]\n",
    "    Lx = f['Metaparameters/Lx'][()]\n",
    "    Ly = f['Metaparameters/Ly'][()]\n",
    "    Lz = f['Metaparameters/Lz'][()]\n",
    "    dw = f['Metaparameters/dw'][()]\n",
    "    As = f['Parameters/As'][()]\n",
    "    Nbec = f['Parameters/Nbec'][()]\n",
    "    Rabi = f['Parameters/Rabi'][()]\n",
    "    Wx = f['Parameters/Wx'][()]\n",
    "    Wy = f['Parameters/Wy'][()]\n",
    "    Wz = f['Parameters/Wz'][()]\n",
    "    dw = f['Parameters/dw'][()]\n",
    "    Ggg = f['Parameters/Ggg'][()]\n",
    "    Gee = f['Parameters/Gee'][()]\n",
    "    Gge = f['Parameters/Gge'][()]\n",
    "    Geg = f['Parameters/Geg'][()]\n",
    "    # m = f['Parameters/m'][()]\n",
    "    print(\"retrieving succeeded!\")"
   ]
  },
  {
   "cell_type": "code",
   "execution_count": 31,
   "metadata": {},
   "outputs": [
    {
     "name": "stdout",
     "output_type": "stream",
     "text": [
      "retrieving succeeded!\n"
     ]
    }
   ],
   "source": [
    "path = r\"/home/quojinhao/Data/scan_param_L78.h5\"\n",
    "with h5py.File(path, \"r\") as f:\n",
    "    psiGT4 = f['psiG'][...]\n",
    "    psiET4 = f['psiE'][...]\n",
    "    LGT4 = f['LG'][...]\n",
    "    Nx = f['Metaparameters/Nx'][()]\n",
    "    Ny = f['Metaparameters/Ny'][()]\n",
    "    Nz = f['Metaparameters/Nz'][()]\n",
    "    Lx = f['Metaparameters/Lx'][()]\n",
    "    Ly = f['Metaparameters/Ly'][()]\n",
    "    Lz = f['Metaparameters/Lz'][()]\n",
    "    dw = f['Metaparameters/dw'][()]\n",
    "    As = f['Parameters/As'][()]\n",
    "    Nbec = f['Parameters/Nbec'][()]\n",
    "    Rabi = f['Parameters/Rabi'][()]\n",
    "    Wx = f['Parameters/Wx'][()]\n",
    "    Wy = f['Parameters/Wy'][()]\n",
    "    Wz = f['Parameters/Wz'][()]\n",
    "    dw = f['Parameters/dw'][()]\n",
    "    Ggg = f['Parameters/Ggg'][()]\n",
    "    Gee = f['Parameters/Gee'][()]\n",
    "    Gge = f['Parameters/Gge'][()]\n",
    "    Geg = f['Parameters/Geg'][()]\n",
    "    # m = f['Parameters/m'][()]\n",
    "    print(\"retrieving succeeded!\")"
   ]
  },
  {
   "cell_type": "code",
   "execution_count": 36,
   "metadata": {},
   "outputs": [],
   "source": [
    "psiGT = np.zeros_like(psiGT1)\n",
    "psiET = np.zeros_like(psiET1)\n",
    "LGT = np.zeros_like(LGT1)\n",
    "psiGT = np.repeat(psiGT,4,axis=0)\n",
    "psiET = np.repeat(psiET,4,axis=0)\n",
    "LGT = np.repeat(LGT,4,axis=0)\n",
    "\n",
    "\n",
    "q = psiGT.shape[0]//4\n",
    "for i in range(psiGT.shape[0]):\n",
    "    psiGT[0:q]     = psiGT1\n",
    "    psiGT[q:2*q]   = psiGT2\n",
    "    psiGT[2*q:3*q] = psiGT3\n",
    "    psiGT[3*q:4*q] = psiGT4\n",
    "    psiET[0:q]     = psiET1\n",
    "    psiET[q:2*q]   = psiET2\n",
    "    psiET[2*q:3*q] = psiET3\n",
    "    psiET[3*q:4*q] = psiET4\n",
    "    LGT[0:q]     = LGT1\n",
    "    LGT[q:2*q]   = LGT2\n",
    "    LGT[2*q:3*q] = LGT3\n",
    "    LGT[3*q:4*q] = LGT4\n",
    "    \n",
    "\n",
    "\n",
    "\n",
    "\n"
   ]
  },
  {
   "cell_type": "code",
   "execution_count": 38,
   "metadata": {},
   "outputs": [
    {
     "name": "stdout",
     "output_type": "stream",
     "text": [
      "True\n",
      "True\n",
      "True\n",
      "True\n",
      "True\n",
      "True\n",
      "True\n",
      "True\n",
      "True\n",
      "True\n",
      "True\n",
      "True\n",
      "True\n",
      "True\n",
      "True\n",
      "True\n",
      "True\n",
      "True\n",
      "True\n",
      "True\n",
      "True\n",
      "True\n",
      "True\n",
      "True\n",
      "True\n",
      "True\n",
      "True\n",
      "True\n",
      "True\n",
      "True\n",
      "True\n",
      "True\n",
      "True\n",
      "True\n",
      "True\n",
      "True\n",
      "True\n",
      "True\n",
      "True\n",
      "True\n",
      "True\n",
      "True\n",
      "True\n",
      "True\n",
      "True\n",
      "True\n",
      "True\n",
      "True\n",
      "True\n",
      "True\n",
      "True\n",
      "True\n",
      "True\n",
      "True\n",
      "True\n",
      "True\n",
      "True\n",
      "True\n",
      "True\n",
      "True\n",
      "True\n",
      "True\n",
      "True\n",
      "True\n",
      "True\n",
      "True\n",
      "True\n",
      "True\n"
     ]
    }
   ],
   "source": [
    "for i in range(psiGT.shape[0]):\n",
    "    # print(np.allclose(psiET[i % 8],psiET[(i+1) % 8],atol=1e-6))\n",
    "    print(np.all(psiET[i % 8] == psiET[(i+1) % 8]))\n",
    "\n",
    "# psiET3 = psiET[3]\n",
    "# psiET.shape"
   ]
  },
  {
   "cell_type": "code",
   "execution_count": 16,
   "metadata": {},
   "outputs": [
    {
     "data": {
      "text/plain": [
       "<matplotlib.collections.PolyCollection at 0x7ff4c784fd00>"
      ]
     },
     "execution_count": 16,
     "metadata": {},
     "output_type": "execute_result"
    },
    {
     "data": {
      "image/png": "[encoded data removed]",
      "text/plain": [
       "<Figure size 432x288 with 1 Axes>"
      ]
     },
     "metadata": {
      "needs_background": "light"
     },
     "output_type": "display_data"
    }
   ],
   "source": [
    "import matplotlib.pyplot as plt\n",
    "np.sum(LGT4[1])\n",
    "cut = 60\n",
    "plt.figure()\n",
    "plt.pcolor(np.abs(LGT4[1,:,:,cut]))"
   ]
  },
  {
   "cell_type": "code",
   "execution_count": 33,
   "metadata": {},
   "outputs": [
    {
     "data": {
      "text/plain": [
       "'/home/quojinhao/Data/scan_param_L8.h5'"
      ]
     },
     "execution_count": 33,
     "metadata": {},
     "output_type": "execute_result"
    }
   ],
   "source": [
    "path = '/home/quojinhao/Data/scan_param_L8.h5'\n",
    "L = 6\n",
    "i = L-1\n",
    "psiG = psiGT[i]\n",
    "psiE = psiET[i]\n",
    "LG = LGT[i]\n",
    "path"
   ]
  },
  {
   "cell_type": "code",
   "execution_count": 34,
   "metadata": {},
   "outputs": [
    {
     "name": "stdout",
     "output_type": "stream",
     "text": [
      "storing succeeded!\n"
     ]
    }
   ],
   "source": [
    "\n",
    "with h5py.File(path, \"w\") as f:\n",
    "    f['psiG'] = psiG\n",
    "    f['psiE'] = psiE\n",
    "    f['LG'] = LG\n",
    "    # f['psiGmuArray'] = psiGmuArray\n",
    "    # f['psiEmuArray'] = psiEmuArray\n",
    "    f['Metaparameters/Nx'] = Nx\n",
    "    f['Metaparameters/Ny'] = Ny\n",
    "    f['Metaparameters/Nz'] = Nz\n",
    "    f['Metaparameters/Lx'] = Lx\n",
    "    f['Metaparameters/Ly'] = Ly\n",
    "    f['Metaparameters/Lz'] = Lz\n",
    "    f['Metaparameters/dw'] = dw\n",
    "    f['Parameters/As'] = As\n",
    "    f['Parameters/Nbec'] = Nbec\n",
    "    f['Parameters/Rabi'] = Rabi\n",
    "    f['Parameters/m'] = m\n",
    "    f['Parameters/Wx'] = Wx\n",
    "    f['Parameters/Wy'] = Wy\n",
    "    f['Parameters/Wz'] = Wz\n",
    "    f['Parameters/dw'] = dw\n",
    "    f['Parameters/Ggg'] = Ggg\n",
    "    f['Parameters/Gee'] = Gee\n",
    "    f['Parameters/Gge'] = Gge\n",
    "    f['Parameters/Geg'] = Geg\n",
    "    print(\"storing succeeded!\")"
   ]
  }
 ],
 "metadata": {
  "interpreter": {
   "hash": "328829cc4c8cb6ed09007c0ebba3e5bf7961e855bda147cb1b3cf63ef916dd36"
  },
  "kernelspec": {
   "display_name": "Python 3.9.12 ('RAPIDS')",
   "language": "python",
   "name": "python3"
  },
  "language_info": {
   "codemirror_mode": {
    "name": "ipython",
    "version": 3
   },
   "file_extension": ".py",
   "mimetype": "text/x-python",
   "name": "python",
   "nbconvert_exporter": "python",
   "pygments_lexer": "ipython3",
   "version": "3.9.12"
  },
  "orig_nbformat": 4
 },
 "nbformat": 4,
 "nbformat_minor": 2
}
