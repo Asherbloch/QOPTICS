{
 "cells": [
  {
   "cell_type": "code",
   "execution_count": 2,
   "metadata": {},
   "outputs": [],
   "source": [
    "import os\n",
    "import dask\n",
    "from time import sleep\n",
    "import utils.dirutils as dd\n",
    "from dask.distributed import Client\n",
    "import cupy as cp\n",
    "import numpy as np\n",
    "from dask_jobqueue import SLURMCluster\n",
    "# import scipy as sp\n",
    "# from numba import njit\n",
    "import computation2_cluster as cc\n",
    "import utils.dirutils as dd"
   ]
  },
  {
   "cell_type": "code",
   "execution_count": 10,
   "metadata": {},
   "outputs": [
    {
     "name": "stdout",
     "output_type": "stream",
     "text": [
      "[Errno 17] File exists: '/home/quojinhao/Data/dask-worker-space-can-be-deleted'\n",
      "#!/usr/bin/env bash\n",
      "\n",
      "#SBATCH -J dask-worker\n",
      "#SBATCH -e /home/quojinhao/Data/dask-worker-space-can-be-deleted/dask-worker-%J.err\n",
      "#SBATCH -o /home/quojinhao/Data/dask-worker-space-can-be-deleted/dask-worker-%J.out\n",
      "#SBATCH -p gpu\n",
      "#SBATCH -n 1\n",
      "#SBATCH --cpus-per-task=12\n",
      "#SBATCH --mem=233G\n",
      "#SBATCH -t 144:00:00\n",
      "\n",
      "/opt/conda/envs/RAPIDS/bin/python -m distributed.cli.dask_worker tcp://192.168.0.254:40171 --nthreads 4 --nprocs 3 --memory-limit 77.61GiB --name dummy-name --nanny --death-timeout 90 --local-directory /scratch/$USER/$SLURM_JOB_ID --resources gpu=1 --protocol tcp://\n",
      "\n"
     ]
    }
   ],
   "source": [
    "path = dd.base()\n",
    "daskpath=os.path.join(path, \"dask-worker-space-can-be-deleted\")\n",
    "try: \n",
    "    os.mkdir(daskpath) \n",
    "except OSError as error: \n",
    "    print(error)\t\t \n",
    "\n",
    "# proc * threads = 18(cores)\n",
    "# cluster = SLURMCluster(log_directory=daskpath) \n",
    "cluster = SLURMCluster(\n",
    "    cores=12,\n",
    "    queue='gpu',\n",
    "    processes=3,\n",
    "    log_directory=daskpath\n",
    ")   \n",
    "\n",
    "print(cluster.job_script())\n",
    "cluster.scale(jobs=1) # 1 nodes\n",
    "sleep(15)\n",
    "client = Client(cluster)\n",
    "client.amm.start()"
   ]
  },
  {
   "cell_type": "code",
   "execution_count": null,
   "metadata": {},
   "outputs": [],
   "source": [
    "client"
   ]
  },
  {
   "cell_type": "code",
   "execution_count": 5,
   "metadata": {},
   "outputs": [],
   "source": [
    "P1 = np.arange(1,2)\n",
    "P2 = np.arange(2,3)\n",
    "P3 = np.arange(3,4)\n",
    "fileformat = \"test_cluster{}.h5\"\n",
    "nj = 50000\n",
    "stepj = nj//20"
   ]
  },
  {
   "cell_type": "code",
   "execution_count": 6,
   "metadata": {},
   "outputs": [],
   "source": [
    "def setup_gpu_worker(i):\n",
    "    sleep(1.5)\n",
    "    cp.cuda.Device(i).use()\n",
    "    sleep(1.5)\n",
    "with dask.annotate(resources={'gpu': 1}): # must included. proc--one-to-one--gpu\n",
    "    setupGPUs = [ client.submit( setup_gpu_worker, i ) for i in range(3) ]"
   ]
  },
  {
   "cell_type": "code",
   "execution_count": 7,
   "metadata": {},
   "outputs": [],
   "source": [
    "with dask.annotate(resources={'gpu': 1}): # must included. proc--one-to-one--gpu\n",
    "    future1 = client.submit(cc.computation, P1, nj, stepj, fileformat)\n",
    "    future2 = client.submit(cc.computation, P2, nj, stepj, fileformat)\n",
    "    future3 = client.submit(cc.computation, P3, nj, stepj, fileformat)"
   ]
  },
  {
   "cell_type": "code",
   "execution_count": null,
   "metadata": {},
   "outputs": [],
   "source": [
    "client.cancel(future1)\n",
    "client.cancel(future2)\n",
    "client.cancel(future3)"
   ]
  },
  {
   "cell_type": "code",
   "execution_count": 8,
   "metadata": {},
   "outputs": [],
   "source": [
    "client.close()\n",
    "cluster.close()"
   ]
  },
  {
   "cell_type": "code",
   "execution_count": 9,
   "metadata": {},
   "outputs": [
    {
     "ename": "Exception",
     "evalue": "Tried sending message after closing.  Status: closed\nMessage: {'op': 'restart', 'timeout': 60}",
     "output_type": "error",
     "traceback": [
      "\u001b[0;31m---------------------------------------------------------------------------\u001b[0m",
      "\u001b[0;31mException\u001b[0m                                 Traceback (most recent call last)",
      "\u001b[1;32m/home/quojinhao/QOPTICS/Main/scanning_param.ipynb Cell 8'\u001b[0m in \u001b[0;36m<cell line: 1>\u001b[0;34m()\u001b[0m\n\u001b[0;32m----> <a href='vscode-notebook-cell://ssh-remote%2Bmaster.q-optics.phy.ncu.edu.tw/home/quojinhao/QOPTICS/Main/scanning_param.ipynb#ch0000006vscode-remote?line=0'>1</a>\u001b[0m client\u001b[39m.\u001b[39;49mrestart()\n",
      "File \u001b[0;32m/opt/conda/envs/RAPIDS/lib/python3.9/site-packages/distributed/client.py:3362\u001b[0m, in \u001b[0;36mClient.restart\u001b[0;34m(self, **kwargs)\u001b[0m\n\u001b[1;32m   <a href='file:///opt/conda/envs/RAPIDS/lib/python3.9/site-packages/distributed/client.py?line=3355'>3356</a>\u001b[0m \u001b[39mdef\u001b[39;00m \u001b[39mrestart\u001b[39m(\u001b[39mself\u001b[39m, \u001b[39m*\u001b[39m\u001b[39m*\u001b[39mkwargs):\n\u001b[1;32m   <a href='file:///opt/conda/envs/RAPIDS/lib/python3.9/site-packages/distributed/client.py?line=3356'>3357</a>\u001b[0m     \u001b[39m\"\"\"Restart the distributed network\u001b[39;00m\n\u001b[1;32m   <a href='file:///opt/conda/envs/RAPIDS/lib/python3.9/site-packages/distributed/client.py?line=3357'>3358</a>\u001b[0m \n\u001b[1;32m   <a href='file:///opt/conda/envs/RAPIDS/lib/python3.9/site-packages/distributed/client.py?line=3358'>3359</a>\u001b[0m \u001b[39m    This kills all active work, deletes all data on the network, and\u001b[39;00m\n\u001b[1;32m   <a href='file:///opt/conda/envs/RAPIDS/lib/python3.9/site-packages/distributed/client.py?line=3359'>3360</a>\u001b[0m \u001b[39m    restarts the worker processes.\u001b[39;00m\n\u001b[1;32m   <a href='file:///opt/conda/envs/RAPIDS/lib/python3.9/site-packages/distributed/client.py?line=3360'>3361</a>\u001b[0m \u001b[39m    \"\"\"\u001b[39;00m\n\u001b[0;32m-> <a href='file:///opt/conda/envs/RAPIDS/lib/python3.9/site-packages/distributed/client.py?line=3361'>3362</a>\u001b[0m     \u001b[39mreturn\u001b[39;00m \u001b[39mself\u001b[39;49m\u001b[39m.\u001b[39;49msync(\u001b[39mself\u001b[39;49m\u001b[39m.\u001b[39;49m_restart, \u001b[39m*\u001b[39;49m\u001b[39m*\u001b[39;49mkwargs)\n",
      "File \u001b[0;32m/opt/conda/envs/RAPIDS/lib/python3.9/site-packages/distributed/utils.py:309\u001b[0m, in \u001b[0;36mSyncMethodMixin.sync\u001b[0;34m(self, func, asynchronous, callback_timeout, *args, **kwargs)\u001b[0m\n\u001b[1;32m    <a href='file:///opt/conda/envs/RAPIDS/lib/python3.9/site-packages/distributed/utils.py?line=306'>307</a>\u001b[0m     \u001b[39mreturn\u001b[39;00m future\n\u001b[1;32m    <a href='file:///opt/conda/envs/RAPIDS/lib/python3.9/site-packages/distributed/utils.py?line=307'>308</a>\u001b[0m \u001b[39melse\u001b[39;00m:\n\u001b[0;32m--> <a href='file:///opt/conda/envs/RAPIDS/lib/python3.9/site-packages/distributed/utils.py?line=308'>309</a>\u001b[0m     \u001b[39mreturn\u001b[39;00m sync(\n\u001b[1;32m    <a href='file:///opt/conda/envs/RAPIDS/lib/python3.9/site-packages/distributed/utils.py?line=309'>310</a>\u001b[0m         \u001b[39mself\u001b[39;49m\u001b[39m.\u001b[39;49mloop, func, \u001b[39m*\u001b[39;49margs, callback_timeout\u001b[39m=\u001b[39;49mcallback_timeout, \u001b[39m*\u001b[39;49m\u001b[39m*\u001b[39;49mkwargs\n\u001b[1;32m    <a href='file:///opt/conda/envs/RAPIDS/lib/python3.9/site-packages/distributed/utils.py?line=310'>311</a>\u001b[0m     )\n",
      "File \u001b[0;32m/opt/conda/envs/RAPIDS/lib/python3.9/site-packages/distributed/utils.py:376\u001b[0m, in \u001b[0;36msync\u001b[0;34m(loop, func, callback_timeout, *args, **kwargs)\u001b[0m\n\u001b[1;32m    <a href='file:///opt/conda/envs/RAPIDS/lib/python3.9/site-packages/distributed/utils.py?line=373'>374</a>\u001b[0m \u001b[39mif\u001b[39;00m error:\n\u001b[1;32m    <a href='file:///opt/conda/envs/RAPIDS/lib/python3.9/site-packages/distributed/utils.py?line=374'>375</a>\u001b[0m     typ, exc, tb \u001b[39m=\u001b[39m error\n\u001b[0;32m--> <a href='file:///opt/conda/envs/RAPIDS/lib/python3.9/site-packages/distributed/utils.py?line=375'>376</a>\u001b[0m     \u001b[39mraise\u001b[39;00m exc\u001b[39m.\u001b[39mwith_traceback(tb)\n\u001b[1;32m    <a href='file:///opt/conda/envs/RAPIDS/lib/python3.9/site-packages/distributed/utils.py?line=376'>377</a>\u001b[0m \u001b[39melse\u001b[39;00m:\n\u001b[1;32m    <a href='file:///opt/conda/envs/RAPIDS/lib/python3.9/site-packages/distributed/utils.py?line=377'>378</a>\u001b[0m     \u001b[39mreturn\u001b[39;00m result\n",
      "File \u001b[0;32m/opt/conda/envs/RAPIDS/lib/python3.9/site-packages/distributed/utils.py:349\u001b[0m, in \u001b[0;36msync.<locals>.f\u001b[0;34m()\u001b[0m\n\u001b[1;32m    <a href='file:///opt/conda/envs/RAPIDS/lib/python3.9/site-packages/distributed/utils.py?line=346'>347</a>\u001b[0m         future \u001b[39m=\u001b[39m asyncio\u001b[39m.\u001b[39mwait_for(future, callback_timeout)\n\u001b[1;32m    <a href='file:///opt/conda/envs/RAPIDS/lib/python3.9/site-packages/distributed/utils.py?line=347'>348</a>\u001b[0m     future \u001b[39m=\u001b[39m asyncio\u001b[39m.\u001b[39mensure_future(future)\n\u001b[0;32m--> <a href='file:///opt/conda/envs/RAPIDS/lib/python3.9/site-packages/distributed/utils.py?line=348'>349</a>\u001b[0m     result \u001b[39m=\u001b[39m \u001b[39myield\u001b[39;00m future\n\u001b[1;32m    <a href='file:///opt/conda/envs/RAPIDS/lib/python3.9/site-packages/distributed/utils.py?line=349'>350</a>\u001b[0m \u001b[39mexcept\u001b[39;00m \u001b[39mException\u001b[39;00m:\n\u001b[1;32m    <a href='file:///opt/conda/envs/RAPIDS/lib/python3.9/site-packages/distributed/utils.py?line=350'>351</a>\u001b[0m     error \u001b[39m=\u001b[39m sys\u001b[39m.\u001b[39mexc_info()\n",
      "File \u001b[0;32m/opt/conda/envs/RAPIDS/lib/python3.9/site-packages/tornado/gen.py:762\u001b[0m, in \u001b[0;36mRunner.run\u001b[0;34m(self)\u001b[0m\n\u001b[1;32m    <a href='file:///opt/conda/envs/RAPIDS/lib/python3.9/site-packages/tornado/gen.py?line=758'>759</a>\u001b[0m exc_info \u001b[39m=\u001b[39m \u001b[39mNone\u001b[39;00m\n\u001b[1;32m    <a href='file:///opt/conda/envs/RAPIDS/lib/python3.9/site-packages/tornado/gen.py?line=760'>761</a>\u001b[0m \u001b[39mtry\u001b[39;00m:\n\u001b[0;32m--> <a href='file:///opt/conda/envs/RAPIDS/lib/python3.9/site-packages/tornado/gen.py?line=761'>762</a>\u001b[0m     value \u001b[39m=\u001b[39m future\u001b[39m.\u001b[39;49mresult()\n\u001b[1;32m    <a href='file:///opt/conda/envs/RAPIDS/lib/python3.9/site-packages/tornado/gen.py?line=762'>763</a>\u001b[0m \u001b[39mexcept\u001b[39;00m \u001b[39mException\u001b[39;00m:\n\u001b[1;32m    <a href='file:///opt/conda/envs/RAPIDS/lib/python3.9/site-packages/tornado/gen.py?line=763'>764</a>\u001b[0m     exc_info \u001b[39m=\u001b[39m sys\u001b[39m.\u001b[39mexc_info()\n",
      "File \u001b[0;32m/opt/conda/envs/RAPIDS/lib/python3.9/site-packages/distributed/client.py:3343\u001b[0m, in \u001b[0;36mClient._restart\u001b[0;34m(self, timeout)\u001b[0m\n\u001b[1;32m   <a href='file:///opt/conda/envs/RAPIDS/lib/python3.9/site-packages/distributed/client.py?line=3339'>3340</a>\u001b[0m \u001b[39mif\u001b[39;00m timeout \u001b[39mis\u001b[39;00m \u001b[39mnot\u001b[39;00m \u001b[39mNone\u001b[39;00m:\n\u001b[1;32m   <a href='file:///opt/conda/envs/RAPIDS/lib/python3.9/site-packages/distributed/client.py?line=3340'>3341</a>\u001b[0m     timeout \u001b[39m=\u001b[39m parse_timedelta(timeout, \u001b[39m\"\u001b[39m\u001b[39ms\u001b[39m\u001b[39m\"\u001b[39m)\n\u001b[0;32m-> <a href='file:///opt/conda/envs/RAPIDS/lib/python3.9/site-packages/distributed/client.py?line=3342'>3343</a>\u001b[0m \u001b[39mself\u001b[39;49m\u001b[39m.\u001b[39;49m_send_to_scheduler({\u001b[39m\"\u001b[39;49m\u001b[39mop\u001b[39;49m\u001b[39m\"\u001b[39;49m: \u001b[39m\"\u001b[39;49m\u001b[39mrestart\u001b[39;49m\u001b[39m\"\u001b[39;49m, \u001b[39m\"\u001b[39;49m\u001b[39mtimeout\u001b[39;49m\u001b[39m\"\u001b[39;49m: timeout})\n\u001b[1;32m   <a href='file:///opt/conda/envs/RAPIDS/lib/python3.9/site-packages/distributed/client.py?line=3343'>3344</a>\u001b[0m \u001b[39mself\u001b[39m\u001b[39m.\u001b[39m_restart_event \u001b[39m=\u001b[39m asyncio\u001b[39m.\u001b[39mEvent()\n\u001b[1;32m   <a href='file:///opt/conda/envs/RAPIDS/lib/python3.9/site-packages/distributed/client.py?line=3344'>3345</a>\u001b[0m \u001b[39mtry\u001b[39;00m:\n",
      "File \u001b[0;32m/opt/conda/envs/RAPIDS/lib/python3.9/site-packages/distributed/client.py:1122\u001b[0m, in \u001b[0;36mClient._send_to_scheduler\u001b[0;34m(self, msg)\u001b[0m\n\u001b[1;32m   <a href='file:///opt/conda/envs/RAPIDS/lib/python3.9/site-packages/distributed/client.py?line=1119'>1120</a>\u001b[0m     \u001b[39mself\u001b[39m\u001b[39m.\u001b[39mloop\u001b[39m.\u001b[39madd_callback(\u001b[39mself\u001b[39m\u001b[39m.\u001b[39m_send_to_scheduler_safe, msg)\n\u001b[1;32m   <a href='file:///opt/conda/envs/RAPIDS/lib/python3.9/site-packages/distributed/client.py?line=1120'>1121</a>\u001b[0m \u001b[39melse\u001b[39;00m:\n\u001b[0;32m-> <a href='file:///opt/conda/envs/RAPIDS/lib/python3.9/site-packages/distributed/client.py?line=1121'>1122</a>\u001b[0m     \u001b[39mraise\u001b[39;00m \u001b[39mException\u001b[39;00m(\n\u001b[1;32m   <a href='file:///opt/conda/envs/RAPIDS/lib/python3.9/site-packages/distributed/client.py?line=1122'>1123</a>\u001b[0m         \u001b[39m\"\u001b[39m\u001b[39mTried sending message after closing.  Status: \u001b[39m\u001b[39m%s\u001b[39;00m\u001b[39m\\n\u001b[39;00m\u001b[39m\"\u001b[39m\n\u001b[1;32m   <a href='file:///opt/conda/envs/RAPIDS/lib/python3.9/site-packages/distributed/client.py?line=1123'>1124</a>\u001b[0m         \u001b[39m\"\u001b[39m\u001b[39mMessage: \u001b[39m\u001b[39m%s\u001b[39;00m\u001b[39m\"\u001b[39m \u001b[39m%\u001b[39m (\u001b[39mself\u001b[39m\u001b[39m.\u001b[39mstatus, msg)\n\u001b[1;32m   <a href='file:///opt/conda/envs/RAPIDS/lib/python3.9/site-packages/distributed/client.py?line=1124'>1125</a>\u001b[0m     )\n",
      "\u001b[0;31mException\u001b[0m: Tried sending message after closing.  Status: closed\nMessage: {'op': 'restart', 'timeout': 60}"
     ]
    }
   ],
   "source": [
    "client.restart()"
   ]
  },
  {
   "cell_type": "code",
   "execution_count": null,
   "metadata": {},
   "outputs": [],
   "source": [
    "# cd ~/Data"
   ]
  }
 ],
 "metadata": {
  "interpreter": {
   "hash": "328829cc4c8cb6ed09007c0ebba3e5bf7961e855bda147cb1b3cf63ef916dd36"
  },
  "kernelspec": {
   "display_name": "Dask",
   "language": "python",
   "name": "python3"
  },
  "language_info": {
   "codemirror_mode": {
    "name": "ipython",
    "version": 3
   },
   "file_extension": ".py",
   "mimetype": "text/x-python",
   "name": "python",
   "nbconvert_exporter": "python",
   "pygments_lexer": "ipython3",
   "version": "3.9.12"
  }
 },
 "nbformat": 4,
 "nbformat_minor": 4
}
