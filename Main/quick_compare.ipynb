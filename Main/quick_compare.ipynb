{
 "cells": [
  {
   "cell_type": "code",
   "execution_count": null,
   "id": "3a29cc2e-188d-4304-9b1a-c2a3cad9d793",
   "metadata": {},
   "outputs": [],
   "source": [
    "import cupy as cp\n",
    "import numpy as np\n",
    "import h5py\n",
    "import utils.dirutils as dd\n",
    "import os\n",
    "from os.path import join, expanduser\n",
    "from scipy.special import genlaguerre\n",
    "import matplotlib.pyplot as plt\n",
    "%matplotlib widget"
   ]
  },
  {
   "cell_type": "code",
   "execution_count": null,
   "id": "b8cf081b",
   "metadata": {},
   "outputs": [],
   "source": [
    "cd ~/Data/tmp/"
   ]
  },
  {
   "cell_type": "code",
   "execution_count": null,
   "id": "c5f6c530",
   "metadata": {},
   "outputs": [],
   "source": [
    "cd ~/Data/results/archive"
   ]
  },
  {
   "cell_type": "code",
   "execution_count": null,
   "id": "b8533e7f",
   "metadata": {},
   "outputs": [],
   "source": [
    "ls *_L1_10um_1e-6.h5"
   ]
  },
  {
   "cell_type": "code",
   "execution_count": null,
   "id": "fcc0987d-658f-4aa3-914b-d6eb4aa50bd7",
   "metadata": {},
   "outputs": [],
   "source": [
    "#%%\n",
    "path = \"1000000_L1_10um_1e-6.h5\"\n",
    "data = dd.retrieve(path)\n",
    "\n",
    "module = sys.modules[__name__]\n",
    "for name, value in data.items():\n",
    "    setattr(module, name, value)\n",
    "if 'LGdata' in data: # The light is stored as variable named 'LGdata'\n",
    "    LG = LGdata\n",
    "\n",
    "\n",
    "cut = 60"
   ]
  },
  {
   "cell_type": "code",
   "execution_count": null,
   "id": "5676430c-07d4-47dc-b2a2-52a52ac8443e",
   "metadata": {},
   "outputs": [],
   "source": [
    "x = np.linspace(-Lx,Lx,Nx)\n",
    "y = np.linspace(-Ly,Ly,Ny)\n",
    "z = np.linspace(-Lz,Lz,Nz)\n",
    "dx = np.diff(x)[0]\n",
    "dy = np.diff(y)[0]\n",
    "dz = np.diff(z)[0]\n",
    "hbar = 1.054571800139113e-34 \n",
    "m = 1.411000000000000e-25\n",
    "unit = np.sqrt(hbar/m/Wz)\n",
    "[X,Y,Z] = np.meshgrid(x,y,z)\n",
    "Epot = ( (Wx**2*X**2 + Wy**2*Y**2 + Wz**2*Z**2 )\n",
    "                / (2*Wz**2) )\n",
    "psiGmu = (15*Ggg / ( 16*np.pi*np.sqrt(2) )  )**(2/5)\n",
    "TF_amp = np.array((psiGmu-Epot)/Ggg)\n",
    "np.clip(TF_amp, 0, np.inf,out=TF_amp)\n",
    "TF_pbb = np.sqrt(TF_amp)\n",
    "total = np.sum(np.abs(TF_pbb)**2*dx*dy*dz)\n",
    "n_TF_pbb = TF_pbb/np.sqrt(total,dtype=np.complex128)"
   ]
  },
  {
   "cell_type": "code",
   "execution_count": null,
   "id": "54c099d5-324c-4c7f-a1e0-53984158d933",
   "metadata": {},
   "outputs": [],
   "source": [
    "# np.nonzero(n_TF_pbb[60,:,60]!=0)\n",
    "(x[85] - x[35])/2*unit/1e-6"
   ]
  },
  {
   "cell_type": "code",
   "execution_count": null,
   "id": "e480d3f5",
   "metadata": {},
   "outputs": [],
   "source": [
    "plt.figure()\n",
    "plt.plot(x*unit/1e-6, np.abs(n_TF_pbb[cut,:,cut])**2*dx*dy*dz)\n",
    "plt.plot(x*unit/1e-6, np.abs(psiG[cut,:,cut])**2*dx*dy*dz)\n",
    "plt.plot(x*unit/1e-6, np.abs(psiE[cut,:,cut])**2*dx*dy*dz)\n",
    "plt.title(\"L=1\")\n",
    "plt.xlabel(\"x(um)\")\n",
    "plt.ylabel(\"Probability\")\n",
    "plt.legend([r\"$|TF|^2d\\tau$\",r\"$|\\Psi_g|^2d\\tau$\",r\"$|\\Psi_e|^2d\\tau$\"])"
   ]
  },
  {
   "cell_type": "code",
   "execution_count": null,
   "id": "a45f5cde",
   "metadata": {},
   "outputs": [],
   "source": [
    "np.sum( (np.abs(n_TF_pbb)*unit**(-3/2))**2*dx*dy*dz*unit**3)"
   ]
  },
  {
   "cell_type": "code",
   "execution_count": null,
   "id": "961693f5",
   "metadata": {},
   "outputs": [],
   "source": [
    "plt.close()"
   ]
  }
 ],
 "metadata": {
  "interpreter": {
   "hash": "4db8fc868a589106ab12c17721fce00b67172d868821f30e7d96bf597b70d9f2"
  },
  "kernelspec": {
   "display_name": "Python 3.10.4 ('QuTiP')",
   "language": "python",
   "name": "python3"
  },
  "language_info": {
   "codemirror_mode": {
    "name": "ipython",
    "version": 3
   },
   "file_extension": ".py",
   "mimetype": "text/x-python",
   "name": "python",
   "nbconvert_exporter": "python",
   "pygments_lexer": "ipython3",
   "version": "3.10.4"
  },
  "toc-autonumbering": true,
  "toc-showcode": false
 },
 "nbformat": 4,
 "nbformat_minor": 5
}
