{
 "cells": [
  {
   "cell_type": "code",
   "execution_count": null,
   "metadata": {},
   "outputs": [],
   "source": [
    "import numpy as np\n",
    "# import cupy as cp\n",
    "import utils.dirutils as dd\n",
    "import matplotlib.pyplot as plt\n",
    "import os\n",
    "import os.path\n",
    "import fnmatch\n",
    "import re\n",
    "\n",
    "%matplotlib widget"
   ]
  },
  {
   "cell_type": "code",
   "execution_count": null,
   "metadata": {},
   "outputs": [],
   "source": [
    "cd ~/Data/results/archive"
   ]
  },
  {
   "cell_type": "code",
   "execution_count": null,
   "metadata": {},
   "outputs": [],
   "source": [
    "cd ~/Data/tmp/"
   ]
  },
  {
   "cell_type": "code",
   "execution_count": null,
   "metadata": {},
   "outputs": [],
   "source": [
    "cd ~/Data/results/"
   ]
  },
  {
   "cell_type": "code",
   "execution_count": null,
   "metadata": {},
   "outputs": [],
   "source": [
    "cd ~/Data/results/archive/Ggg"
   ]
  },
  {
   "cell_type": "code",
   "execution_count": null,
   "metadata": {},
   "outputs": [],
   "source": [
    "pwd"
   ]
  },
  {
   "cell_type": "code",
   "execution_count": null,
   "metadata": {},
   "outputs": [],
   "source": [
    "ls *"
   ]
  },
  {
   "cell_type": "code",
   "execution_count": null,
   "metadata": {},
   "outputs": [],
   "source": [
    "import sys\n",
    "path = \"1000000_L15um_1e-5_normalized.h5\"\n",
    "# path = \"/mnt/c/Users/Lab/Data/results/LG00_121-121-121.h5\"\n",
    "data = dd.retrieve(path)\n",
    "module = sys.modules[__name__]\n",
    "for name, value in data.items():\n",
    "    setattr(module, name, value)"
   ]
  },
  {
   "cell_type": "code",
   "execution_count": null,
   "metadata": {},
   "outputs": [],
   "source": [
    "x = np.linspace(-Lx,Lx,Nx)\n",
    "y = np.linspace(-Ly,Ly,Ny)\n",
    "z = np.linspace(-Lz,Lz,Nz)\n",
    "dx = np.diff(x)[0]\n",
    "dy = np.diff(y)[0]\n",
    "dz = np.diff(z)[0]\n",
    "hbar = 1.054571800139113e-34 \n",
    "m = 1.411000000000000e-25\n",
    "unit = np.sqrt(hbar/m/Wz)\n",
    "[X,Y,Z] = np.meshgrid(x,y,z)\n",
    "Epot = ( (Wx**2*X**2 + Wy**2*Y**2 + Wz**2*Z**2 )\n",
    "                / (2*Wz**2) )\n",
    "psiGmu = (15*Ggg / ( 16*np.pi*np.sqrt(2) )  )**(2/5)\n",
    "TF_amp = np.array((psiGmu-Epot)/Ggg)\n",
    "np.clip(TF_amp, 0, np.inf,out=TF_amp)\n",
    "TF_pbb = np.sqrt(TF_amp)\n",
    "total = np.sum(np.abs(TF_pbb)**2*dx*dy*dz)\n",
    "n_TF_pbb = TF_pbb/np.sqrt(total,dtype=np.complex128)"
   ]
  },
  {
   "cell_type": "code",
   "execution_count": null,
   "metadata": {},
   "outputs": [],
   "source": [
    "np.sum(np.abs(psiG)**2*dx*dy*dz)\n",
    "np.sum(np.abs(psiE)**2*dx*dy*dz)\n",
    "np.sum(np.abs(n_TF_pbb)**2*dx*dy*dz)"
   ]
  },
  {
   "cell_type": "code",
   "execution_count": null,
   "metadata": {},
   "outputs": [],
   "source": [
    "# check the hole of L.G. beam\n",
    "plt.figure()\n",
    "plt.plot(x*unit/1e-6,np.abs(psiE[60,:,60])**2)\n",
    "plt.xlabel('x(um)')"
   ]
  },
  {
   "cell_type": "code",
   "execution_count": null,
   "metadata": {},
   "outputs": [],
   "source": [
    "plt.figure()\n",
    "plt.plot(x*unit/1e-6,np.abs(n_TF_pbb[60,:,60])**2)\n",
    "plt.xlabel('x(um)')"
   ]
  },
  {
   "cell_type": "code",
   "execution_count": null,
   "metadata": {},
   "outputs": [],
   "source": [
    "dw"
   ]
  },
  {
   "cell_type": "code",
   "execution_count": null,
   "metadata": {},
   "outputs": [],
   "source": [
    "# verify TF radius\n",
    "np.sqrt(2*psiGmu)*unit/1e-6\n",
    "np.nonzero(n_TF_pbb[60,:,60]!=0)\n",
    "(x[85] - x[35])/2*unit/1e-6\n",
    "# W0*unit/1e-6\n",
    "# verify  beam waist\n",
    "# np.max(np.abs(LGdata)**2)*1/np.e**2\n",
    "# np.nonzero(np.abs(LGdata[60,:,60])**2 == 0.1353352832366127)\n",
    "# x[81] - x[60]"
   ]
  },
  {
   "cell_type": "code",
   "execution_count": null,
   "metadata": {},
   "outputs": [],
   "source": [
    "# choose and select files in current dir\n",
    "\n",
    "includes = ['*L6*'] # for files only\n",
    "# includes = ['*0000L6*test.h5'] # for files only\n",
    "excludes = ['*Ggg*','*halflight*'] # for dirs and files\n",
    "\n",
    "# transform glob patterns to regular expressions\n",
    "includes = r'|'.join([fnmatch.translate(x) for x in includes])\n",
    "excludes = r'|'.join([fnmatch.translate(x) for x in excludes]) or r'$.'\n",
    "\n",
    "legends = [None]\n",
    "out = []\n",
    "for root, dirs, files in os.walk(os.getcwd()):\n",
    "    if not (re.match(excludes, root)):\n",
    "        out += [f for f in files]\n",
    "        out = [f for f in out if re.match(includes, f)]\n",
    "        out = [os.path.join(root,f) for f in out]\n",
    "\n",
    "# sfiles = sorted(out, key=lambda x: int(x.split('/')[-1].split('L')[0][:-1]))\n",
    "sfiles = sorted(out, key=lambda x: int(x.split('/')[-1].split('_')[0]))\n",
    "# sfiles = sorted(out, key=lambda x: x.split('/')[-1].split('_')[1][1:-3])\n",
    "\n"
   ]
  },
  {
   "cell_type": "code",
   "execution_count": null,
   "metadata": {},
   "outputs": [],
   "source": [
    "out[0].split('/')[-1].split('_')[1][1:-3]\n",
    "int(out[0].split('/')[-1].split('_')[0])"
   ]
  },
  {
   "cell_type": "code",
   "execution_count": null,
   "metadata": {},
   "outputs": [],
   "source": [
    "sfiles"
   ]
  },
  {
   "cell_type": "code",
   "execution_count": null,
   "metadata": {},
   "outputs": [],
   "source": [
    "# Excited state comparison\n",
    "\n",
    "legends = []\n",
    "plt.figure()\n",
    "for file in sfiles:\n",
    "    data = dd.retrieve(file)\n",
    "    Lx = data['Lx']\n",
    "    Nx = data['Nx']\n",
    "    Ly = data['Ly']\n",
    "    Ny = data['Ny']\n",
    "    Lz = data['Lz']\n",
    "    Nz = data['Nz']\n",
    "    x = np.linspace(-Lx, Lx, Nx)\n",
    "    y = np.linspace(-Ly, Ly, Ny)\n",
    "    z = np.linspace(-Lz, Lz, Nz)\n",
    "    dx = np.diff(x)[0]\n",
    "    dy = np.diff(y)[0]\n",
    "    dz = np.diff(z)[0]\n",
    "    psiE = data['psiE']\n",
    "    plt.plot(x*unit/1e-6, np.abs(psiE[60,:,60])**2*dx*dy*dz)\n",
    "    # legends.append(file.split('/')[-1].split('L')[0][:-1])\n",
    "    legends.append(round(int(file.split('/')[-1].split('_')[0])*dw,2))\n",
    "\n",
    "    \n",
    "L = dd.retrieve(sfiles[0])['L']\n",
    "plt.title(f\"L={L}\")\n",
    "plt.xlabel(r'x($\\mu m$)')\n",
    "plt.ylabel(r'$|\\psi_{E}|^{2}$')\n",
    "plt.legend(legends)\n",
    "plt.show()"
   ]
  },
  {
   "cell_type": "code",
   "execution_count": null,
   "metadata": {},
   "outputs": [],
   "source": [
    "# Beam, Excited state comparison\n",
    "path = \"100100_L2_test.h5\"\n",
    "data = dd.retrieve(path)\n",
    "\n",
    "Lx = data['Lx']\n",
    "Nx = data['Nx']\n",
    "Ly = data['Ly']\n",
    "Ny = data['Ny']\n",
    "Lz = data['Lz']\n",
    "Nz = data['Nz']\n",
    "x = np.linspace(-Lx, Lx, Nx)\n",
    "y = np.linspace(-Ly, Ly, Ny)\n",
    "z = np.linspace(-Lz, Lz, Nz)\n",
    "dx = np.diff(x)[0]\n",
    "dy = np.diff(y)[0]\n",
    "dz = np.diff(z)[0]\n",
    "psiE = data['psiE']\n",
    "LG = data['LG']\n",
    "\n",
    "fig, ax1 = plt.subplots()\n",
    "ax2 = ax1.twinx()\n",
    "ax1.plot(x, np.abs(LG[60,:,60])**2, 'g-')\n",
    "ax2.plot(x, np.abs(psiE[60,:,60])**2*dx*dy*dz, 'b-')\n",
    "\n",
    "ax1.set_xlabel(r'x($0.6\\mu m$)')\n",
    "ax1.set_ylabel(r'$|LG|^{2}$', color='g')\n",
    "ax2.set_ylabel(r'$|\\psi_{E}|^{2}$', color='b')\n",
    "\n",
    "plt.show()\n"
   ]
  },
  {
   "cell_type": "code",
   "execution_count": null,
   "metadata": {},
   "outputs": [],
   "source": [
    "#Multiple of interaction constant comparison\n",
    "plt.figure()\n",
    "tau = []\n",
    "pbb = []\n",
    "n = [0]\n",
    "Gratios = []\n",
    "for file in sfiles[:]:\n",
    "    data = dd.retrieve(file)\n",
    "    Lx = data['Lx']\n",
    "    Nx = data['Nx']\n",
    "    Ly = data['Ly']\n",
    "    Ny = data['Ny']\n",
    "    Lz = data['Lz']\n",
    "    Nz = data['Nz']\n",
    "    x = np.linspace(-Lx, Lx, Nx)\n",
    "    y = np.linspace(-Ly, Ly, Ny)\n",
    "    z = np.linspace(-Lz, Lz, Nz)\n",
    "    dx = np.diff(x)[0]\n",
    "    dy = np.diff(y)[0]\n",
    "    dz = np.diff(z)[0]\n",
    "    psiE = data['psiE']\n",
    "    tau = np.append(tau, round(int(file.split('/')[-1].split('_')[0])*1e-5, 2))\n",
    "    # n = np.append(n,n[-1]+50000)\n",
    "    Gratios = np.append(Gratios,file.split('/')[-1].split('_')[1][1:-3])\n",
    "    pbb = np.append(pbb, np.sum(np.abs(psiE[...])**2*dx*dy*dz))\n",
    "plt.plot(Gratios, pbb)\n",
    "plt.xlabel('Mutiple of G')\n",
    "plt.ylabel(r'$\\int_{all}|\\Psi_e|^2d\\tau$')\n",
    "plt.title(\"L=1\")"
   ]
  },
  {
   "cell_type": "code",
   "execution_count": null,
   "metadata": {},
   "outputs": [],
   "source": [
    "# Different interaction constant comparison\n",
    "\n",
    "legends = []\n",
    "plt.figure()\n",
    "hs = []\n",
    "sz = 200\n",
    "for file in sfiles[0:4]:\n",
    "    data = dd.retrieve(file)\n",
    "    Lx = data['Lx']\n",
    "    Nx = data['Nx']\n",
    "    Ly = data['Ly']\n",
    "    Ny = data['Ny']\n",
    "    Lz = data['Lz']\n",
    "    Nz = data['Nz']\n",
    "    x = np.linspace(-Lx, Lx, Nx)\n",
    "    y = np.linspace(-Ly, Ly, Ny)\n",
    "    z = np.linspace(-Lz, Lz, Nz)\n",
    "    dx = np.diff(x)[0]\n",
    "    dy = np.diff(y)[0]\n",
    "    dz = np.diff(z)[0]\n",
    "    psiE = data['psiE']\n",
    "    \n",
    "    hp = plt.scatter(x[60]*unit/1e-6, np.abs(psiE[60,60,60])**2*dx*dy*dz, s=sz)\n",
    "    sz /= 2\n",
    "    hs.append(hp)\n",
    "    # plt.plot(x*unit/1e-6, np.abs(psiE[60,:,60])**2*dx*dy*dz)    \n",
    "    # legends.append(round(int(file.split('/')[-1].split('_')[0])*1e-5, 2))  #for imaginary time\n",
    "    legends.append('G=' + file.split('/')[-1].split('_')[1][1:-3] + 'x') \n",
    "    \n",
    "ax=plt.gca()\n",
    "# ax.set_xlim((-26.65866269687757, 26.65866269687757))\n",
    "# ax.set_ylim((-7.428270744235342e-06, 0.00015599368562894218))\n",
    "plt.ticklabel_format(axis='y', style='sci', scilimits=(0,0))\n",
    "# G = sfiles[0].split('/')[-1].split('_')[1][1:-3]\n",
    "# plt.title(f'G={G}x')\n",
    "plt.title(r'$\\tau=4$')\n",
    "plt.xlabel(r'x($\\mu m$)')\n",
    "plt.ylabel(r'$|\\psi_{E}|^{2}d\\tau$')\n",
    "plt.legend(legends)\n",
    "plt.show()\n",
    "    "
   ]
  },
  {
   "cell_type": "code",
   "execution_count": null,
   "metadata": {},
   "outputs": [],
   "source": [
    "plt.close()"
   ]
  },
  {
   "cell_type": "code",
   "execution_count": null,
   "metadata": {},
   "outputs": [],
   "source": [
    "import utils.plotter as pp\n",
    "%matplotlib widget"
   ]
  },
  {
   "cell_type": "code",
   "execution_count": null,
   "metadata": {},
   "outputs": [],
   "source": [
    "cd ~/Data/results/archive/Ggg"
   ]
  },
  {
   "cell_type": "code",
   "execution_count": null,
   "metadata": {},
   "outputs": [],
   "source": [
    "pwd"
   ]
  },
  {
   "cell_type": "code",
   "execution_count": null,
   "metadata": {},
   "outputs": [],
   "source": [
    "ls *G0.5*"
   ]
  },
  {
   "cell_type": "code",
   "execution_count": null,
   "metadata": {},
   "outputs": [],
   "source": [
    "path = \"400000_G0.55um_1e-5_L1.h5\"\n",
    "pp.plotdata(path,zindice=[35,45,60,75,85] ,lims=[(35,85),(35,85),(35,85)], plotwhat='phase',current=True)"
   ]
  },
  {
   "cell_type": "code",
   "execution_count": null,
   "metadata": {},
   "outputs": [],
   "source": [
    "path = \"400000_G0.55um_1e-5_L1.h5\"\n",
    "pp.plotdata(path,zindice=[35,45,60,75,85] ,lims=[(35,85),(35,85),(35,85)], plotwhat='intensity')"
   ]
  },
  {
   "cell_type": "code",
   "execution_count": null,
   "metadata": {},
   "outputs": [],
   "source": [
    "path = \"/home/quojinhao/Data/tmp/1000000_L1_10um_Light_dt1e-6_halflight.h5\"\n",
    "pp.plotdata(path,zindice=[35,45,60,75,85] ,lims=[(35,85),(35,85),(35,85)], current=True)"
   ]
  }
 ],
 "metadata": {
  "interpreter": {
   "hash": "4db8fc868a589106ab12c17721fce00b67172d868821f30e7d96bf597b70d9f2"
  },
  "kernelspec": {
   "display_name": "Python 3.10.4 ('QuTiP')",
   "language": "python",
   "name": "python3"
  },
  "language_info": {
   "codemirror_mode": {
    "name": "ipython",
    "version": 3
   },
   "file_extension": ".py",
   "mimetype": "text/x-python",
   "name": "python",
   "nbconvert_exporter": "python",
   "pygments_lexer": "ipython3",
   "version": "3.10.4"
  }
 },
 "nbformat": 4,
 "nbformat_minor": 4
}
