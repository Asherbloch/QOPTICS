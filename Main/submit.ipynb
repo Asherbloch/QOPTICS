{
 "cells": [
  {
   "cell_type": "code",
   "execution_count": 1,
   "metadata": {},
   "outputs": [
    {
     "name": "stderr",
     "output_type": "stream",
     "text": [
      "/opt/conda/envs/RAPIDS/lib/python3.9/site-packages/dask_jobqueue/core.py:20: FutureWarning: tmpfile is deprecated and will be removed in a future release. Please use dask.utils.tmpfile instead.\n",
      "  from distributed.utils import tmpfile\n"
     ]
    }
   ],
   "source": [
    "import os\n",
    "import dask\n",
    "from time import sleep\n",
    "import utils.dirutils as dd\n",
    "from dask.distributed import Client\n",
    "import cupy as cp\n",
    "import numpy as np\n",
    "from dask_jobqueue import SLURMCluster\n",
    "# import scipy as sp\n",
    "# from numba import njit\n",
    "# import computation2_L as cc\n",
    "import computation2_L as cc\n",
    "import utils.dirutils as dd"
   ]
  },
  {
   "cell_type": "code",
   "execution_count": 2,
   "metadata": {},
   "outputs": [
    {
     "name": "stdout",
     "output_type": "stream",
     "text": [
      "[Errno 17] File exists: '/home/quojinhao/Data/dask-worker-space-can-be-deleted'\n"
     ]
    },
    {
     "name": "stderr",
     "output_type": "stream",
     "text": [
      "/opt/conda/envs/RAPIDS/lib/python3.9/site-packages/distributed/node.py:180: UserWarning: Port 8787 is already in use.\n",
      "Perhaps you already have a cluster running?\n",
      "Hosting the HTTP server on port 36619 instead\n",
      "  warnings.warn(\n"
     ]
    },
    {
     "name": "stdout",
     "output_type": "stream",
     "text": [
      "#!/usr/bin/env bash\n",
      "\n",
      "#SBATCH -J dask-worker\n",
      "#SBATCH -e /home/quojinhao/Data/dask-worker-space-can-be-deleted/dask-worker-%J.err\n",
      "#SBATCH -o /home/quojinhao/Data/dask-worker-space-can-be-deleted/dask-worker-%J.out\n",
      "#SBATCH -p gpu\n",
      "#SBATCH -n 1\n",
      "#SBATCH --cpus-per-task=4\n",
      "#SBATCH --mem=233G\n",
      "#SBATCH -t 144:00:00\n",
      "\n",
      "/opt/conda/envs/RAPIDS/bin/python -m distributed.cli.dask_worker tcp://192.168.0.254:34693 --nthreads 1 --nprocs 4 --memory-limit 58.21GiB --name dummy-name --nanny --death-timeout 90 --local-directory /scratch/$USER/$SLURM_JOB_ID --resources gpu=1 --protocol tcp://\n",
      "\n"
     ]
    }
   ],
   "source": [
    "path = dd.base()\n",
    "daskpath=os.path.join(path, \"dask-worker-space-can-be-deleted\")\n",
    "try: \n",
    "    os.mkdir(daskpath) \n",
    "except OSError as error: \n",
    "    print(error)\t\t \n",
    "\n",
    "# proc * threads = 18(cores) \n",
    "cluster = SLURMCluster(\n",
    "    log_directory=daskpath\n",
    ")   \n",
    "\n",
    "print(cluster.job_script())\n",
    "cluster.scale(jobs=1) # 1 nodes\n",
    "sleep(15)\n",
    "client = Client(cluster)\n",
    "client.amm.start()"
   ]
  },
  {
   "cell_type": "code",
   "execution_count": null,
   "metadata": {},
   "outputs": [],
   "source": [
    "client.status"
   ]
  },
  {
   "cell_type": "code",
   "execution_count": 4,
   "metadata": {},
   "outputs": [],
   "source": [
    "# for L\n",
    "P1 = np.arange(1,3)\n",
    "P2 = np.arange(3,5)\n",
    "P3 = np.arange(5,7)\n",
    "P4 = np.arange(7,9)\n",
    "fileformat = \"L{}5um_1e-5_normalized.h5\"\n",
    "nj = 1000000\n",
    "stepj = nj//10"
   ]
  },
  {
   "cell_type": "code",
   "execution_count": null,
   "metadata": {},
   "outputs": [],
   "source": [
    "# for G\n",
    "nj = 400000\n",
    "stepj = 50000\n",
    "fileformat = \"G{}5um_1e-5_L1.h5\"\n",
    "G1 = np.array([5,2])\n",
    "G2 = np.array([1,0.8])\n",
    "G3 = np.array([0.5,0.1])\n",
    "G4 = np.array([0.01,0.001])"
   ]
  },
  {
   "cell_type": "code",
   "execution_count": 3,
   "metadata": {},
   "outputs": [],
   "source": [
    "def setup_gpu_worker(i):\n",
    "    sleep(5)\n",
    "    cp.cuda.Device(i).use()\n",
    "    sleep(5)\n",
    "with dask.annotate(resources={'gpu': 1}): # must included. proc--one-to-one--gpu\n",
    "    setupGPUs = [ client.submit( setup_gpu_worker, i ) for i in range(4) ]"
   ]
  },
  {
   "cell_type": "code",
   "execution_count": null,
   "metadata": {},
   "outputs": [],
   "source": [
    "with dask.annotate(resources={'gpu': 1}): # must included. proc--one-to-one--gpu\n",
    "    futures = [ client.submit( cc.computation, P, nj, stepj, fileformat ) for P in [P1, P2, P3, P4] ]"
   ]
  },
  {
   "cell_type": "code",
   "execution_count": null,
   "metadata": {},
   "outputs": [],
   "source": [
    "with dask.annotate(resources={'gpu': 1}): # must included. proc--one-to-one--gpu\n",
    "    futures = [ client.submit( cc.computation, G, nj, stepj, fileformat ) for G in [G1, G2, G3, G4] ]"
   ]
  },
  {
   "cell_type": "code",
   "execution_count": null,
   "metadata": {},
   "outputs": [],
   "source": [
    "client.cancel(future)\n",
    "# client.cancel( futures )"
   ]
  },
  {
   "cell_type": "code",
   "execution_count": null,
   "metadata": {},
   "outputs": [],
   "source": [
    "client.close()\n",
    "cluster.close()"
   ]
  },
  {
   "cell_type": "code",
   "execution_count": null,
   "metadata": {},
   "outputs": [],
   "source": [
    "client.restart()"
   ]
  }
 ],
 "metadata": {
  "interpreter": {
   "hash": "328829cc4c8cb6ed09007c0ebba3e5bf7961e855bda147cb1b3cf63ef916dd36"
  },
  "kernelspec": {
   "display_name": "Python 3.9.12 ('RAPIDS')",
   "language": "python",
   "name": "python3"
  },
  "language_info": {
   "codemirror_mode": {
    "name": "ipython",
    "version": 3
   },
   "file_extension": ".py",
   "mimetype": "text/x-python",
   "name": "python",
   "nbconvert_exporter": "python",
   "pygments_lexer": "ipython3",
   "version": "3.9.12"
  }
 },
 "nbformat": 4,
 "nbformat_minor": 4
}
